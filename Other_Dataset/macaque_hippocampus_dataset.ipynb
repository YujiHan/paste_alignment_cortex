{
 "cells": [
  {
   "cell_type": "code",
   "execution_count": 4,
   "metadata": {},
   "outputs": [],
   "source": [
    "import pandas as pd\n",
    "import numpy as np\n",
    "import anndata as ad\n",
    "import scanpy as sc\n",
    "import scipy.sparse as sp\n",
    "import glob\n",
    "from tqdm import tqdm\n",
    "import matplotlib.pyplot as plt"
   ]
  },
  {
   "cell_type": "code",
   "execution_count": 5,
   "metadata": {},
   "outputs": [],
   "source": [
    "# bin50 = sc.read_h5ad('/home/hanyuji/Data/ST_data/macaque_hippocampus/bin50/macaque1/T25.h5ad')\n",
    "# cell = sc.read_h5ad('/home/hanyuji/Data/ST_data/macaque_hippocampus/cell/macaque1/T25.h5ad')\n",
    "# clus = sc.read_h5ad('/home/hanyuji/Data/ST_data/macaque_hippocampus/clus/macaque1/T27.h5ad')"
   ]
  },
  {
   "cell_type": "code",
   "execution_count": 12,
   "metadata": {},
   "outputs": [],
   "source": [
    "def random_subset(adata,cell_num=1200):\n",
    "    random_indices = np.random.choice(adata.n_obs, cell_num, replace=True)   # 从 276593 个细胞中随机选取 3000 个细胞的索引\n",
    "    adata_subset = adata[random_indices, :]   # 使用选取的索引创建新的 AnnData 对象\n",
    "\n",
    "    return adata_subset"
   ]
  },
  {
   "cell_type": "code",
   "execution_count": 20,
   "metadata": {},
   "outputs": [
    {
     "name": "stderr",
     "output_type": "stream",
     "text": [
      "100%|██████████| 30/30 [00:06<00:00,  4.47it/s]\n",
      "/home/hanyuji/miniconda3/envs/PASTE/lib/python3.9/site-packages/anndata/_core/anndata.py:1818: UserWarning: Observation names are not unique. To make them unique, call `.obs_names_make_unique`.\n",
      "  utils.warn_names_duplicates(\"obs\")\n"
     ]
    }
   ],
   "source": [
    "dataset_dir = '/home/hanyuji/Data/ST_data/macaque_hippocampus/cell/macaque1/'\n",
    "\n",
    "cell_macaque1 = ['T25.h5ad', 'T29.h5ad', 'T32.h5ad', 'T36.h5ad', 'T40.h5ad', 'T43.h5ad', 'T47.h5ad', 'T50.h5ad', 'T53.h5ad', 'T56.h5ad', 'T27.h5ad',\n",
    " 'T30.h5ad', 'T33.h5ad', 'T37.h5ad', 'T41.h5ad', 'T44.h5ad', 'T48.h5ad', 'T51.h5ad', 'T54.h5ad', 'T57.h5ad', 'T28.h5ad', 'T31.h5ad',\n",
    " 'T34.h5ad', 'T39.h5ad', 'T42.h5ad', 'T45.h5ad', 'T49.h5ad', 'T52.h5ad', 'T55.h5ad', 'T59.h5ad']\n",
    "\n",
    "adatas = []\n",
    "for file_name in tqdm(cell_macaque1):\n",
    "    adata = sc.read_h5ad(dataset_dir+file_name)\n",
    "    sc.pp.filter_genes(adata, min_counts = 5)\n",
    "    subset = random_subset(adata,1000)\n",
    "    adatas.append(subset)\n",
    "\n",
    "combined_adata = ad.concat(\n",
    "    adatas, \n",
    "    axis=0, \n",
    "    join='outer', \n",
    "    merge='unique', \n",
    "    uns_merge='unique', \n",
    "    label='batch', \n",
    "    keys=list(range(1, len(adatas)+1)), \n",
    "    index_unique='-', \n",
    "    fill_value=0\n",
    ")\n"
   ]
  },
  {
   "cell_type": "code",
   "execution_count": 19,
   "metadata": {},
   "outputs": [
    {
     "data": {
      "text/plain": [
       "AnnData object with n_obs × n_vars = 90000 × 15275\n",
       "    obs: 'region', 'cellID', 'x', 'y', 'cellType', 'batch'\n",
       "    obsm: 'spatial'"
      ]
     },
     "execution_count": 19,
     "metadata": {},
     "output_type": "execute_result"
    }
   ],
   "source": [
    "combined_adata"
   ]
  },
  {
   "cell_type": "code",
   "execution_count": 21,
   "metadata": {},
   "outputs": [
    {
     "name": "stderr",
     "output_type": "stream",
     "text": [
      "/home/hanyuji/miniconda3/envs/PASTE/lib/python3.9/site-packages/scanpy/preprocessing/_normalization.py:206: UserWarning: Received a view of an AnnData. Making a copy.\n",
      "  view_to_actual(adata)\n",
      "/home/hanyuji/miniconda3/envs/PASTE/lib/python3.9/site-packages/anndata/_core/anndata.py:1818: UserWarning: Observation names are not unique. To make them unique, call `.obs_names_make_unique`.\n",
      "  utils.warn_names_duplicates(\"obs\")\n",
      "/home/hanyuji/miniconda3/envs/PASTE/lib/python3.9/site-packages/scanpy/preprocessing/_normalization.py:233: UserWarning: Some cells have zero counts\n",
      "  warn(UserWarning(\"Some cells have zero counts\"))\n"
     ]
    }
   ],
   "source": [
    "sc.pp.highly_variable_genes(combined_adata, n_top_genes=2000 ,flavor='seurat_v3')\n",
    "combined_adata = combined_adata[:, combined_adata.var.highly_variable]\n",
    "# 标准化 log \n",
    "sc.pp.normalize_total(combined_adata, target_sum=1e4)\n",
    "sc.pp.log1p(combined_adata)"
   ]
  },
  {
   "cell_type": "code",
   "execution_count": 24,
   "metadata": {},
   "outputs": [],
   "source": [
    "combined_adata.write('/home/hanyuji/Workbench/ST/paste_alignment_cortex/PASTE_align/macaque_hippocampus_cell_macaque1_30slices_1000spot_2000gene.h5ad')"
   ]
  },
  {
   "cell_type": "code",
   "execution_count": null,
   "metadata": {},
   "outputs": [],
   "source": []
  }
 ],
 "metadata": {
  "kernelspec": {
   "display_name": "PASTE",
   "language": "python",
   "name": "python3"
  },
  "language_info": {
   "codemirror_mode": {
    "name": "ipython",
    "version": 3
   },
   "file_extension": ".py",
   "mimetype": "text/x-python",
   "name": "python",
   "nbconvert_exporter": "python",
   "pygments_lexer": "ipython3",
   "version": "3.9.19"
  }
 },
 "nbformat": 4,
 "nbformat_minor": 2
}
