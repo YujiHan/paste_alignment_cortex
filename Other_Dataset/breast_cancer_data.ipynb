{
 "cells": [
  {
   "cell_type": "code",
   "execution_count": 1,
   "metadata": {},
   "outputs": [],
   "source": [
    "import scanpy as sc\n",
    "import numpy as np\n",
    "import pandas as pd\n",
    "import matplotlib.pyplot as plt\n",
    "import anndata as ad\n",
    "# import stlearn as st\n",
    "# import SpaGCN as spg\n"
   ]
  },
  {
   "cell_type": "code",
   "execution_count": 2,
   "metadata": {},
   "outputs": [],
   "source": [
    "def intersect(lst1, lst2): \n",
    "    \"\"\"\n",
    "    获取并返回两个列表的交集\n",
    "    Args:\n",
    "        lst1: List\n",
    "        lst2: List\n",
    "    Returns:\n",
    "        lst3: List of common elements.\n",
    "    \"\"\"\n",
    "    temp = set(lst2)\n",
    "    lst3 = [value for value in lst1 if value in temp]\n",
    "    return lst3\n",
    "\n",
    "\n",
    "def intersect_gene_list(lst):\n",
    "    \"\"\"\n",
    "    获取并返回一个列表的多个anndata元素的共同基因\n",
    "    Args:\n",
    "        lst: List\n",
    "    Returns:\n",
    "        common_genes: List of common elements.\n",
    "    \"\"\"\n",
    "    common_genes = lst[0].var.index\n",
    "    for item in lst:\n",
    "        common_genes = intersect(common_genes, item.var.index)\n",
    "    return common_genes"
   ]
  },
  {
   "cell_type": "code",
   "execution_count": 3,
   "metadata": {},
   "outputs": [],
   "source": [
    "def load_slices_fourST(data_dir='/home/hanyuji/Data/sxa_ST_data/breast_cancer_data/', slice_names=[\"slice1\", \"slice2\", \"slice3\", \"slice4\"]):\n",
    "    slices = []  \n",
    "    for index, slice_name in enumerate(slice_names):\n",
    "        slice_i = sc.read_csv(data_dir + slice_name + \".csv\")\n",
    "        slice_i_coor = np.genfromtxt(data_dir + slice_name + \"_coor.csv\", delimiter = ',')\n",
    "        slice_i.obsm['spatial_coor'] = slice_i_coor\n",
    "        slice_i.obs['slice'] = index+1.0\n",
    "        # Preprocess slices\n",
    "        sc.pp.filter_genes(slice_i, min_counts = 15)\n",
    "        sc.pp.filter_cells(slice_i, min_counts = 100)\n",
    "        slices.append(slice_i)\n",
    "    adata_layer_1, adata_layer_2, adata_layer_3, adata_layer_4 = slices\n",
    "    \n",
    "    \n",
    "    common_genes = intersect_gene_list((adata_layer_1, adata_layer_2, adata_layer_3, adata_layer_4))  # 筛选出共有的基因\n",
    "    \n",
    "    \n",
    "    adata_layer_1 = adata_layer_1[:, common_genes]\n",
    "    adata_layer_2 = adata_layer_2[:, common_genes]\n",
    "    adata_layer_3 = adata_layer_3[:, common_genes]\n",
    "    adata_layer_4 = adata_layer_4[:, common_genes]\n",
    "\n",
    "    return [adata_layer_1, adata_layer_2, adata_layer_3, adata_layer_4]"
   ]
  },
  {
   "cell_type": "code",
   "execution_count": 4,
   "metadata": {},
   "outputs": [],
   "source": [
    "# adata_layer_1, adata_layer_2, adata_layer_3, adata_layer_4 = load_slices_fourST()\n",
    "adatas = load_slices_fourST()"
   ]
  },
  {
   "cell_type": "code",
   "execution_count": 5,
   "metadata": {},
   "outputs": [
    {
     "name": "stdout",
     "output_type": "stream",
     "text": [
      "View of AnnData object with n_obs × n_vars = 254 × 6397\n",
      "    obs: 'slice', 'n_counts'\n",
      "    var: 'n_counts'\n",
      "    obsm: 'spatial_coor'\n",
      "View of AnnData object with n_obs × n_vars = 250 × 6397\n",
      "    obs: 'slice', 'n_counts'\n",
      "    var: 'n_counts'\n",
      "    obsm: 'spatial_coor'\n",
      "View of AnnData object with n_obs × n_vars = 263 × 6397\n",
      "    obs: 'slice', 'n_counts'\n",
      "    var: 'n_counts'\n",
      "    obsm: 'spatial_coor'\n",
      "View of AnnData object with n_obs × n_vars = 262 × 6397\n",
      "    obs: 'slice', 'n_counts'\n",
      "    var: 'n_counts'\n",
      "    obsm: 'spatial_coor'\n"
     ]
    }
   ],
   "source": [
    "for i in adatas:\n",
    "    print(i)"
   ]
  },
  {
   "cell_type": "code",
   "execution_count": 6,
   "metadata": {},
   "outputs": [
    {
     "data": {
      "text/plain": [
       "<matplotlib.collections.PathCollection at 0x7c5e6eca7b20>"
      ]
     },
     "execution_count": 6,
     "metadata": {},
     "output_type": "execute_result"
    },
    {
     "data": {
      "image/png": "[encoded data removed]",
      "text/plain": [
       "<Figure size 500x500 with 1 Axes>"
      ]
     },
     "metadata": {},
     "output_type": "display_data"
    }
   ],
   "source": [
    "df = pd.DataFrame(adatas[0].obsm['spatial_coor'])\n",
    "\n",
    "fig = plt.figure(figsize=(5, 5))\n",
    "\n",
    "plt.scatter(df[0], df[1],s=5)"
   ]
  },
  {
   "cell_type": "code",
   "execution_count": 7,
   "metadata": {},
   "outputs": [],
   "source": [
    "# 保存切片subset\n",
    "combined_adata = ad.concat(\n",
    "    adatas, \n",
    "    axis=0, \n",
    "    join='outer', \n",
    "    merge='unique', \n",
    "    uns_merge='unique', \n",
    "    label='batch', \n",
    "    keys=list(range(1, len(adatas)+1)), \n",
    "    index_unique='-', \n",
    "    fill_value=0\n",
    ")\n",
    "dataset_path = '/home/hanyuji/Data/sxa_ST_data/h5ad_BiGATAE/breast_cancer_4slices_254spot_6397gene.h5ad'\n",
    "combined_adata.write(dataset_path)"
   ]
  },
  {
   "cell_type": "code",
   "execution_count": 8,
   "metadata": {},
   "outputs": [
    {
     "data": {
      "text/plain": [
       "AnnData object with n_obs × n_vars = 1029 × 6397\n",
       "    obs: 'slice', 'n_counts', 'batch'\n",
       "    obsm: 'spatial_coor'"
      ]
     },
     "execution_count": 8,
     "metadata": {},
     "output_type": "execute_result"
    }
   ],
   "source": [
    "combined_adata\n"
   ]
  },
  {
   "cell_type": "code",
   "execution_count": null,
   "metadata": {},
   "outputs": [],
   "source": []
  }
 ],
 "metadata": {
  "kernelspec": {
   "display_name": "PASTE",
   "language": "python",
   "name": "python3"
  },
  "language_info": {
   "codemirror_mode": {
    "name": "ipython",
    "version": 3
   },
   "file_extension": ".py",
   "mimetype": "text/x-python",
   "name": "python",
   "nbconvert_exporter": "python",
   "pygments_lexer": "ipython3",
   "version": "3.9.19"
  }
 },
 "nbformat": 4,
 "nbformat_minor": 2
}
