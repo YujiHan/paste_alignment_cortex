{
 "cells": [
  {
   "cell_type": "code",
   "execution_count": 1,
   "metadata": {},
   "outputs": [],
   "source": [
    "import scanpy as sc\n",
    "import numpy as np\n",
    "import pandas as pd\n",
    "import matplotlib.pyplot as plt\n",
    "import anndata as ad"
   ]
  },
  {
   "cell_type": "code",
   "execution_count": 2,
   "metadata": {},
   "outputs": [],
   "source": [
    "def load_cSCC_46(data_dir='/home/hanyuji/Data/sxa_ST_data/cSCC/', P_name='P4', slice_nums=['1','2']):\n",
    "    slices = []  \n",
    "    for slice_num in slice_nums:\n",
    "        slice = sc.read_10x_mtx(data_dir+P_name+'/'+P_name+'_rep'+slice_num)\n",
    "        position = sc.read_csv(data_dir+P_name+'/'+P_name+'_rep'+slice_num+'/spatial/'+P_name+'_rep'+slice_num+'_tissue_positions_list.csv')\n",
    "        position = position[slice.obs.index]\n",
    "        spatial_coor = np.array([row[1:3] for row in position.X.tolist()]).astype(int)\n",
    "        spatial = np.array([row[3:5] for row in position.X.tolist()]).astype(int)\n",
    "        slice.obsm['spatial_coor']=spatial_coor\n",
    "        slice.obsm['spatial'] = spatial\n",
    "        sc.pp.filter_cells(slice, min_counts = 3)\n",
    "        slices.append(slice)\n",
    "    \n",
    "    combined_adata = ad.concat(\n",
    "        slices, \n",
    "        axis=0, \n",
    "        join='outer', \n",
    "        merge='unique', \n",
    "        uns_merge='unique', \n",
    "        label='batch', \n",
    "        keys=list(range(1, len(slices)+1)), \n",
    "        index_unique='-', \n",
    "        fill_value=0\n",
    "    )\n",
    "\n",
    "    sc.pp.highly_variable_genes(combined_adata, n_top_genes=3000 ,flavor='seurat_v3')\n",
    "    combined_adata = combined_adata[:, combined_adata.var.highly_variable]\n",
    "    # 标准化 log \n",
    "    sc.pp.normalize_total(combined_adata, target_sum=1e4)\n",
    "    sc.pp.log1p(combined_adata)\n",
    "\n",
    "    return combined_adata"
   ]
  },
  {
   "cell_type": "code",
   "execution_count": 3,
   "metadata": {},
   "outputs": [],
   "source": [
    "def load_cSCC_25910(data_dir='/home/hanyuji/Data/sxa_ST_data/cSCC/', P_name='P2', slice_nums=['1','2','3']):\n",
    "    slices = []      \n",
    "    for slice_num in slice_nums:\n",
    "        slice = sc.read_text(data_dir+P_name+'/'+P_name+'_ST_rep'+slice_num+'_stdata.tsv')\n",
    "        position = sc.read_text(data_dir+P_name+'/spot_data-selection-'+P_name+'_ST_rep'+slice_num+'.tsv')\n",
    "        spatial_coor = np.array([row[:2] for row in position.X.tolist()]).astype(int)\n",
    "        index = [f'{x}x{y}' for x, y in spatial_coor]\n",
    "        position.obs.index = index\n",
    "        index = np.intersect1d(index, slice.obs.index)\n",
    "        slice = slice[index]\n",
    "        position = position[index]\n",
    "        spatial_coor = []\n",
    "        spatial_coor = np.array([row[:2] for row in position.X.tolist()]).astype(int)\n",
    "        spatial = np.array([row[4:6] for row in position.X.tolist()]).astype(int)\n",
    "        slice.obsm['spatial_coor'] = spatial_coor\n",
    "        slice.obsm['spatial'] = spatial\n",
    "        sc.pp.filter_cells(slice, min_counts = 3)\n",
    "        slices.append(slice)\n",
    "    \n",
    "    combined_adata = ad.concat(\n",
    "        slices, \n",
    "        axis=0, \n",
    "        join='outer', \n",
    "        merge='unique', \n",
    "        uns_merge='unique', \n",
    "        label='batch', \n",
    "        keys=list(range(1, len(slices)+1)), \n",
    "        index_unique='-', \n",
    "        fill_value=0\n",
    "    )\n",
    "\n",
    "    sc.pp.highly_variable_genes(combined_adata, n_top_genes=3000 ,flavor='seurat_v3')\n",
    "    combined_adata = combined_adata[:, combined_adata.var.highly_variable]\n",
    "    # 标准化 log \n",
    "    sc.pp.normalize_total(combined_adata, target_sum=1e4)\n",
    "    sc.pp.log1p(combined_adata)\n",
    "\n",
    "    return combined_adata"
   ]
  },
  {
   "cell_type": "code",
   "execution_count": 6,
   "metadata": {},
   "outputs": [
    {
     "name": "stderr",
     "output_type": "stream",
     "text": [
      "/tmp/ipykernel_1110546/1987086570.py:15: ImplicitModificationWarning: Setting element `.obsm['spatial_coor']` of view, initializing view as actual.\n",
      "  slice.obsm['spatial_coor'] = spatial_coor\n",
      "/tmp/ipykernel_1110546/1987086570.py:15: ImplicitModificationWarning: Setting element `.obsm['spatial_coor']` of view, initializing view as actual.\n",
      "  slice.obsm['spatial_coor'] = spatial_coor\n",
      "/tmp/ipykernel_1110546/1987086570.py:15: ImplicitModificationWarning: Setting element `.obsm['spatial_coor']` of view, initializing view as actual.\n",
      "  slice.obsm['spatial_coor'] = spatial_coor\n",
      "/home/hanyuji/miniconda3/envs/PASTE/lib/python3.9/site-packages/scanpy/preprocessing/_normalization.py:206: UserWarning: Received a view of an AnnData. Making a copy.\n",
      "  view_to_actual(adata)\n",
      "/home/hanyuji/miniconda3/envs/PASTE/lib/python3.9/site-packages/scanpy/preprocessing/_normalization.py:206: UserWarning: Received a view of an AnnData. Making a copy.\n",
      "  view_to_actual(adata)\n",
      "/tmp/ipykernel_1110546/1987086570.py:15: ImplicitModificationWarning: Setting element `.obsm['spatial_coor']` of view, initializing view as actual.\n",
      "  slice.obsm['spatial_coor'] = spatial_coor\n",
      "/tmp/ipykernel_1110546/1987086570.py:15: ImplicitModificationWarning: Setting element `.obsm['spatial_coor']` of view, initializing view as actual.\n",
      "  slice.obsm['spatial_coor'] = spatial_coor\n",
      "/tmp/ipykernel_1110546/1987086570.py:15: ImplicitModificationWarning: Setting element `.obsm['spatial_coor']` of view, initializing view as actual.\n",
      "  slice.obsm['spatial_coor'] = spatial_coor\n",
      "/home/hanyuji/miniconda3/envs/PASTE/lib/python3.9/site-packages/scanpy/preprocessing/_normalization.py:206: UserWarning: Received a view of an AnnData. Making a copy.\n",
      "  view_to_actual(adata)\n",
      "/home/hanyuji/miniconda3/envs/PASTE/lib/python3.9/site-packages/scanpy/preprocessing/_normalization.py:206: UserWarning: Received a view of an AnnData. Making a copy.\n",
      "  view_to_actual(adata)\n",
      "/home/hanyuji/miniconda3/envs/PASTE/lib/python3.9/site-packages/scanpy/preprocessing/_normalization.py:233: UserWarning: Some cells have zero counts\n",
      "  warn(UserWarning(\"Some cells have zero counts\"))\n",
      "/tmp/ipykernel_1110546/1987086570.py:15: ImplicitModificationWarning: Setting element `.obsm['spatial_coor']` of view, initializing view as actual.\n",
      "  slice.obsm['spatial_coor'] = spatial_coor\n",
      "/tmp/ipykernel_1110546/1987086570.py:15: ImplicitModificationWarning: Setting element `.obsm['spatial_coor']` of view, initializing view as actual.\n",
      "  slice.obsm['spatial_coor'] = spatial_coor\n",
      "/tmp/ipykernel_1110546/1987086570.py:15: ImplicitModificationWarning: Setting element `.obsm['spatial_coor']` of view, initializing view as actual.\n",
      "  slice.obsm['spatial_coor'] = spatial_coor\n",
      "/home/hanyuji/miniconda3/envs/PASTE/lib/python3.9/site-packages/scanpy/preprocessing/_normalization.py:206: UserWarning: Received a view of an AnnData. Making a copy.\n",
      "  view_to_actual(adata)\n",
      "/tmp/ipykernel_1110546/1987086570.py:15: ImplicitModificationWarning: Setting element `.obsm['spatial_coor']` of view, initializing view as actual.\n",
      "  slice.obsm['spatial_coor'] = spatial_coor\n",
      "/tmp/ipykernel_1110546/1987086570.py:15: ImplicitModificationWarning: Setting element `.obsm['spatial_coor']` of view, initializing view as actual.\n",
      "  slice.obsm['spatial_coor'] = spatial_coor\n",
      "/tmp/ipykernel_1110546/1987086570.py:15: ImplicitModificationWarning: Setting element `.obsm['spatial_coor']` of view, initializing view as actual.\n",
      "  slice.obsm['spatial_coor'] = spatial_coor\n",
      "/home/hanyuji/miniconda3/envs/PASTE/lib/python3.9/site-packages/scanpy/preprocessing/_normalization.py:206: UserWarning: Received a view of an AnnData. Making a copy.\n",
      "  view_to_actual(adata)\n"
     ]
    }
   ],
   "source": [
    "cscc_2 = load_cSCC_25910(P_name='P2')\n",
    "cscc_4 =  load_cSCC_46(P_name='P4')\n",
    "cscc_5 = load_cSCC_25910(P_name='P5')\n",
    "cscc_6 =  load_cSCC_46(P_name='P6')\n",
    "cscc_9 = load_cSCC_25910(P_name='P9')\n",
    "cscc_10 = load_cSCC_25910(P_name='P10')\n"
   ]
  },
  {
   "cell_type": "code",
   "execution_count": 11,
   "metadata": {},
   "outputs": [
    {
     "data": {
      "text/plain": [
       "[AnnData object with n_obs × n_vars = 608 × 3000\n",
       "     obs: 'n_counts', 'batch'\n",
       "     var: 'highly_variable', 'highly_variable_rank', 'means', 'variances', 'variances_norm'\n",
       "     uns: 'hvg', 'log1p'\n",
       "     obsm: 'spatial_coor', 'spatial',\n",
       " AnnData object with n_obs × n_vars = 621 × 3000\n",
       "     obs: 'n_counts', 'batch'\n",
       "     var: 'highly_variable', 'highly_variable_rank', 'means', 'variances', 'variances_norm'\n",
       "     uns: 'hvg', 'log1p'\n",
       "     obsm: 'spatial_coor', 'spatial',\n",
       " AnnData object with n_obs × n_vars = 462 × 3000\n",
       "     obs: 'n_counts', 'batch'\n",
       "     var: 'highly_variable', 'highly_variable_rank', 'means', 'variances', 'variances_norm'\n",
       "     uns: 'hvg', 'log1p'\n",
       "     obsm: 'spatial_coor', 'spatial']"
      ]
     },
     "execution_count": 11,
     "metadata": {},
     "output_type": "execute_result"
    }
   ],
   "source": [
    "plt_adata = cscc_10\n",
    "index = 1\n",
    "\n",
    "unique_batches = plt_adata.obs['batch'].unique()\n",
    "adatas = [plt_adata[plt_adata.obs['batch'] == batch].copy() for batch in unique_batches]\n",
    "adatas"
   ]
  },
  {
   "cell_type": "code",
   "execution_count": null,
   "metadata": {},
   "outputs": [],
   "source": []
  },
  {
   "cell_type": "code",
   "execution_count": null,
   "metadata": {},
   "outputs": [
    {
     "data": {
      "text/plain": [
       "AnnData object with n_obs × n_vars = 1950 × 3000\n",
       "    obs: 'n_counts', 'batch'\n",
       "    var: 'highly_variable', 'highly_variable_rank', 'means', 'variances', 'variances_norm'\n",
       "    uns: 'hvg', 'log1p'\n",
       "    obsm: 'spatial_coor', 'spatial'"
      ]
     },
     "execution_count": 19,
     "metadata": {},
     "output_type": "execute_result"
    }
   ],
   "source": [
    "cscc_2"
   ]
  },
  {
   "cell_type": "code",
   "execution_count": 12,
   "metadata": {},
   "outputs": [],
   "source": [
    "dataset_dir = '/home/hanyuji/Data/sxa_ST_data/h5ad_BiGATAE/cSCC/'\n",
    "\n",
    "cscc_2.write(dataset_dir+'cSCC_P2_3slices_646spot_3000gene.h5ad')\n",
    "cscc_4.write(dataset_dir+'cSCC_P4_2slices_744spot_3000gene.h5ad')\n",
    "cscc_5.write(dataset_dir+'cSCC_P5_3slices_521spot_3000gene.h5ad')\n",
    "cscc_6.write(dataset_dir+'cSCC_P6_2slices_3650spot_3000gene.h5ad')\n",
    "cscc_9.write(dataset_dir+'cSCC_P9_3slices_1145spot_3000gene.h5ad')\n",
    "cscc_10.write(dataset_dir+'cSCC_P10_3slices_608spot_3000gene.h5ad')\n"
   ]
  },
  {
   "cell_type": "code",
   "execution_count": 29,
   "metadata": {},
   "outputs": [
    {
     "data": {
      "text/plain": [
       "[AnnData object with n_obs × n_vars = 666 × 3000\n",
       "     obs: 'n_counts', 'batch'\n",
       "     var: 'highly_variable', 'highly_variable_rank', 'means', 'variances', 'variances_norm'\n",
       "     uns: 'hvg', 'log1p'\n",
       "     obsm: 'spatial_coor', 'spatial',\n",
       " AnnData object with n_obs × n_vars = 646 × 3000\n",
       "     obs: 'n_counts', 'batch'\n",
       "     var: 'highly_variable', 'highly_variable_rank', 'means', 'variances', 'variances_norm'\n",
       "     uns: 'hvg', 'log1p'\n",
       "     obsm: 'spatial_coor', 'spatial',\n",
       " AnnData object with n_obs × n_vars = 638 × 3000\n",
       "     obs: 'n_counts', 'batch'\n",
       "     var: 'highly_variable', 'highly_variable_rank', 'means', 'variances', 'variances_norm'\n",
       "     uns: 'hvg', 'log1p'\n",
       "     obsm: 'spatial_coor', 'spatial']"
      ]
     },
     "execution_count": 29,
     "metadata": {},
     "output_type": "execute_result"
    },
    {
     "data": {
      "image/png": "[encoded data removed]",
      "text/plain": [
       "<Figure size 700x700 with 1 Axes>"
      ]
     },
     "metadata": {},
     "output_type": "display_data"
    }
   ],
   "source": [
    "plt_adata = cscc_2\n",
    "index = 1\n",
    "\n",
    "unique_batches = plt_adata.obs['batch'].unique()\n",
    "adatas = [plt_adata[plt_adata.obs['batch'] == batch].copy() for batch in unique_batches]\n",
    "\n",
    "df = pd.DataFrame(adatas[index].obsm['spatial_coor'])\n",
    "fig = plt.figure(figsize=(7, 7))\n",
    "plt.scatter(df[0], df[1],s=5)\n",
    "adatas"
   ]
  },
  {
   "cell_type": "code",
   "execution_count": null,
   "metadata": {},
   "outputs": [],
   "source": []
  }
 ],
 "metadata": {
  "kernelspec": {
   "display_name": "PASTE",
   "language": "python",
   "name": "python3"
  },
  "language_info": {
   "codemirror_mode": {
    "name": "ipython",
    "version": 3
   },
   "file_extension": ".py",
   "mimetype": "text/x-python",
   "name": "python",
   "nbconvert_exporter": "python",
   "pygments_lexer": "ipython3",
   "version": "3.9.19"
  }
 },
 "nbformat": 4,
 "nbformat_minor": 2
}
