{
 "cells": [
  {
   "cell_type": "code",
   "execution_count": 2,
   "metadata": {},
   "outputs": [],
   "source": [
    "import pandas as pd\n",
    "import numpy as np\n",
    "from anndata import AnnData\n",
    "import scanpy as sc\n",
    "import scipy.sparse as sp\n",
    "from tqdm import tqdm\n",
    "from paste import pairwise_align\n",
    "import ot\n",
    "import torch\n",
    "import matplotlib.pyplot as plt\n",
    "from scipy.sparse import coo_matrix\n",
    "import anndata as ad"
   ]
  },
  {
   "cell_type": "code",
   "execution_count": 3,
   "metadata": {},
   "outputs": [],
   "source": [
    "dataset_path = '/home/hanyuji/Workbench/ST/ST_data_check/paste_alignment_cortex/PASTE_align/cortex_macaque1_119slice_subset_1000spot_2000gene_HVG.h5ad'\n",
    "adata = sc.read_h5ad(dataset_path)"
   ]
  },
  {
   "cell_type": "code",
   "execution_count": 4,
   "metadata": {},
   "outputs": [],
   "source": [
    "unique_batches = adata.obs['batch'].unique()\n",
    "adata_list = [adata[adata.obs['batch'] == batch].copy() for batch in unique_batches]"
   ]
  },
  {
   "cell_type": "code",
   "execution_count": 5,
   "metadata": {},
   "outputs": [],
   "source": [
    "def get_edge_index(M):\n",
    "    # 将稠密矩阵M转换为稀疏矩阵，并获得边的索引edge_index \n",
    "    M_ = coo_matrix(M) # 稠密矩阵--->稀疏矩阵\n",
    "    values = M_.data\n",
    "    indices = np.vstack((M_.row, M_.col))  # 我们真正需要的coo形式\n",
    "    return indices"
   ]
  },
  {
   "cell_type": "code",
   "execution_count": 5,
   "metadata": {},
   "outputs": [
    {
     "name": "stderr",
     "output_type": "stream",
     "text": [
      "  0%|          | 0/118 [00:00<?, ?it/s]"
     ]
    },
    {
     "name": "stdout",
     "output_type": "stream",
     "text": [
      "Using selected backend cpu. If you want to use gpu, set use_gpu = True.\n"
     ]
    },
    {
     "name": "stderr",
     "output_type": "stream",
     "text": [
      "  1%|          | 1/118 [00:02<04:21,  2.24s/it]"
     ]
    },
    {
     "name": "stdout",
     "output_type": "stream",
     "text": [
      "Using selected backend cpu. If you want to use gpu, set use_gpu = True.\n"
     ]
    },
    {
     "name": "stderr",
     "output_type": "stream",
     "text": [
      "  2%|▏         | 2/118 [00:06<06:53,  3.57s/it]"
     ]
    },
    {
     "name": "stdout",
     "output_type": "stream",
     "text": [
      "Using selected backend cpu. If you want to use gpu, set use_gpu = True.\n"
     ]
    },
    {
     "name": "stderr",
     "output_type": "stream",
     "text": [
      "  3%|▎         | 3/118 [00:13<09:38,  5.03s/it]"
     ]
    },
    {
     "name": "stdout",
     "output_type": "stream",
     "text": [
      "Using selected backend cpu. If you want to use gpu, set use_gpu = True.\n"
     ]
    },
    {
     "name": "stderr",
     "output_type": "stream",
     "text": [
      "  3%|▎         | 4/118 [00:17<09:02,  4.76s/it]"
     ]
    },
    {
     "name": "stdout",
     "output_type": "stream",
     "text": [
      "Using selected backend cpu. If you want to use gpu, set use_gpu = True.\n"
     ]
    },
    {
     "name": "stderr",
     "output_type": "stream",
     "text": [
      "  4%|▍         | 5/118 [00:23<09:24,  4.99s/it]"
     ]
    },
    {
     "name": "stdout",
     "output_type": "stream",
     "text": [
      "Using selected backend cpu. If you want to use gpu, set use_gpu = True.\n"
     ]
    },
    {
     "name": "stderr",
     "output_type": "stream",
     "text": [
      "  5%|▌         | 6/118 [00:27<08:41,  4.65s/it]"
     ]
    },
    {
     "name": "stdout",
     "output_type": "stream",
     "text": [
      "Using selected backend cpu. If you want to use gpu, set use_gpu = True.\n"
     ]
    },
    {
     "name": "stderr",
     "output_type": "stream",
     "text": [
      "  6%|▌         | 7/118 [00:29<07:21,  3.98s/it]"
     ]
    },
    {
     "name": "stdout",
     "output_type": "stream",
     "text": [
      "Using selected backend cpu. If you want to use gpu, set use_gpu = True.\n"
     ]
    },
    {
     "name": "stderr",
     "output_type": "stream",
     "text": [
      "  7%|▋         | 8/118 [00:34<07:28,  4.08s/it]"
     ]
    },
    {
     "name": "stdout",
     "output_type": "stream",
     "text": [
      "Using selected backend cpu. If you want to use gpu, set use_gpu = True.\n"
     ]
    },
    {
     "name": "stderr",
     "output_type": "stream",
     "text": [
      "  8%|▊         | 9/118 [00:36<06:42,  3.69s/it]"
     ]
    },
    {
     "name": "stdout",
     "output_type": "stream",
     "text": [
      "Using selected backend cpu. If you want to use gpu, set use_gpu = True.\n"
     ]
    },
    {
     "name": "stderr",
     "output_type": "stream",
     "text": [
      "  8%|▊         | 10/118 [00:41<07:02,  3.91s/it]"
     ]
    },
    {
     "name": "stdout",
     "output_type": "stream",
     "text": [
      "Using selected backend cpu. If you want to use gpu, set use_gpu = True.\n"
     ]
    },
    {
     "name": "stderr",
     "output_type": "stream",
     "text": [
      "  9%|▉         | 11/118 [00:47<07:59,  4.48s/it]"
     ]
    },
    {
     "name": "stdout",
     "output_type": "stream",
     "text": [
      "Using selected backend cpu. If you want to use gpu, set use_gpu = True.\n"
     ]
    },
    {
     "name": "stderr",
     "output_type": "stream",
     "text": [
      " 10%|█         | 12/118 [00:51<07:51,  4.45s/it]"
     ]
    },
    {
     "name": "stdout",
     "output_type": "stream",
     "text": [
      "Using selected backend cpu. If you want to use gpu, set use_gpu = True.\n"
     ]
    },
    {
     "name": "stderr",
     "output_type": "stream",
     "text": [
      " 11%|█         | 13/118 [00:54<06:45,  3.86s/it]"
     ]
    },
    {
     "name": "stdout",
     "output_type": "stream",
     "text": [
      "Using selected backend cpu. If you want to use gpu, set use_gpu = True.\n"
     ]
    },
    {
     "name": "stderr",
     "output_type": "stream",
     "text": [
      " 12%|█▏        | 14/118 [00:57<06:35,  3.80s/it]"
     ]
    },
    {
     "name": "stdout",
     "output_type": "stream",
     "text": [
      "Using selected backend cpu. If you want to use gpu, set use_gpu = True.\n"
     ]
    },
    {
     "name": "stderr",
     "output_type": "stream",
     "text": [
      " 13%|█▎        | 15/118 [01:02<06:49,  3.97s/it]"
     ]
    },
    {
     "name": "stdout",
     "output_type": "stream",
     "text": [
      "Using selected backend cpu. If you want to use gpu, set use_gpu = True.\n"
     ]
    },
    {
     "name": "stderr",
     "output_type": "stream",
     "text": [
      " 14%|█▎        | 16/118 [01:06<07:07,  4.19s/it]"
     ]
    },
    {
     "name": "stdout",
     "output_type": "stream",
     "text": [
      "Using selected backend cpu. If you want to use gpu, set use_gpu = True.\n"
     ]
    },
    {
     "name": "stderr",
     "output_type": "stream",
     "text": [
      " 14%|█▍        | 17/118 [01:10<06:46,  4.03s/it]"
     ]
    },
    {
     "name": "stdout",
     "output_type": "stream",
     "text": [
      "Using selected backend cpu. If you want to use gpu, set use_gpu = True.\n"
     ]
    },
    {
     "name": "stderr",
     "output_type": "stream",
     "text": [
      " 15%|█▌        | 18/118 [01:16<07:31,  4.51s/it]"
     ]
    },
    {
     "name": "stdout",
     "output_type": "stream",
     "text": [
      "Using selected backend cpu. If you want to use gpu, set use_gpu = True.\n"
     ]
    },
    {
     "name": "stderr",
     "output_type": "stream",
     "text": [
      " 16%|█▌        | 19/118 [01:19<06:51,  4.15s/it]"
     ]
    },
    {
     "name": "stdout",
     "output_type": "stream",
     "text": [
      "Using selected backend cpu. If you want to use gpu, set use_gpu = True.\n"
     ]
    },
    {
     "name": "stderr",
     "output_type": "stream",
     "text": [
      " 17%|█▋        | 20/118 [01:23<06:51,  4.20s/it]"
     ]
    },
    {
     "name": "stdout",
     "output_type": "stream",
     "text": [
      "Using selected backend cpu. If you want to use gpu, set use_gpu = True.\n"
     ]
    },
    {
     "name": "stderr",
     "output_type": "stream",
     "text": [
      " 18%|█▊        | 21/118 [01:30<08:05,  5.01s/it]"
     ]
    },
    {
     "name": "stdout",
     "output_type": "stream",
     "text": [
      "Using selected backend cpu. If you want to use gpu, set use_gpu = True.\n"
     ]
    },
    {
     "name": "stderr",
     "output_type": "stream",
     "text": [
      " 19%|█▊        | 22/118 [01:36<08:26,  5.28s/it]"
     ]
    },
    {
     "name": "stdout",
     "output_type": "stream",
     "text": [
      "Using selected backend cpu. If you want to use gpu, set use_gpu = True.\n"
     ]
    },
    {
     "name": "stderr",
     "output_type": "stream",
     "text": [
      " 19%|█▉        | 23/118 [01:41<08:10,  5.16s/it]"
     ]
    },
    {
     "name": "stdout",
     "output_type": "stream",
     "text": [
      "Using selected backend cpu. If you want to use gpu, set use_gpu = True.\n"
     ]
    },
    {
     "name": "stderr",
     "output_type": "stream",
     "text": [
      " 20%|██        | 24/118 [01:50<10:10,  6.50s/it]"
     ]
    },
    {
     "name": "stdout",
     "output_type": "stream",
     "text": [
      "Using selected backend cpu. If you want to use gpu, set use_gpu = True.\n"
     ]
    },
    {
     "name": "stderr",
     "output_type": "stream",
     "text": [
      " 21%|██        | 25/118 [01:57<09:56,  6.42s/it]"
     ]
    },
    {
     "name": "stdout",
     "output_type": "stream",
     "text": [
      "Using selected backend cpu. If you want to use gpu, set use_gpu = True.\n"
     ]
    },
    {
     "name": "stderr",
     "output_type": "stream",
     "text": [
      " 22%|██▏       | 26/118 [02:04<10:04,  6.57s/it]"
     ]
    },
    {
     "name": "stdout",
     "output_type": "stream",
     "text": [
      "Using selected backend cpu. If you want to use gpu, set use_gpu = True.\n"
     ]
    },
    {
     "name": "stderr",
     "output_type": "stream",
     "text": [
      " 23%|██▎       | 27/118 [02:14<11:47,  7.77s/it]"
     ]
    },
    {
     "name": "stdout",
     "output_type": "stream",
     "text": [
      "Using selected backend cpu. If you want to use gpu, set use_gpu = True.\n"
     ]
    },
    {
     "name": "stderr",
     "output_type": "stream",
     "text": [
      " 24%|██▎       | 28/118 [02:22<11:39,  7.78s/it]"
     ]
    },
    {
     "name": "stdout",
     "output_type": "stream",
     "text": [
      "Using selected backend cpu. If you want to use gpu, set use_gpu = True.\n"
     ]
    },
    {
     "name": "stderr",
     "output_type": "stream",
     "text": [
      " 25%|██▍       | 29/118 [02:34<13:15,  8.94s/it]"
     ]
    },
    {
     "name": "stdout",
     "output_type": "stream",
     "text": [
      "Using selected backend cpu. If you want to use gpu, set use_gpu = True.\n"
     ]
    },
    {
     "name": "stderr",
     "output_type": "stream",
     "text": [
      " 25%|██▌       | 30/118 [02:40<11:51,  8.09s/it]"
     ]
    },
    {
     "name": "stdout",
     "output_type": "stream",
     "text": [
      "Using selected backend cpu. If you want to use gpu, set use_gpu = True.\n"
     ]
    },
    {
     "name": "stderr",
     "output_type": "stream",
     "text": [
      " 26%|██▋       | 31/118 [02:48<11:35,  8.00s/it]"
     ]
    },
    {
     "name": "stdout",
     "output_type": "stream",
     "text": [
      "Using selected backend cpu. If you want to use gpu, set use_gpu = True.\n"
     ]
    },
    {
     "name": "stderr",
     "output_type": "stream",
     "text": [
      " 27%|██▋       | 32/118 [02:55<11:08,  7.78s/it]"
     ]
    },
    {
     "name": "stdout",
     "output_type": "stream",
     "text": [
      "Using selected backend cpu. If you want to use gpu, set use_gpu = True.\n"
     ]
    },
    {
     "name": "stderr",
     "output_type": "stream",
     "text": [
      " 28%|██▊       | 33/118 [02:58<09:13,  6.51s/it]"
     ]
    },
    {
     "name": "stdout",
     "output_type": "stream",
     "text": [
      "Using selected backend cpu. If you want to use gpu, set use_gpu = True.\n"
     ]
    },
    {
     "name": "stderr",
     "output_type": "stream",
     "text": [
      " 29%|██▉       | 34/118 [03:04<08:56,  6.38s/it]"
     ]
    },
    {
     "name": "stdout",
     "output_type": "stream",
     "text": [
      "Using selected backend cpu. If you want to use gpu, set use_gpu = True.\n"
     ]
    },
    {
     "name": "stderr",
     "output_type": "stream",
     "text": [
      " 30%|██▉       | 35/118 [03:07<07:09,  5.17s/it]"
     ]
    },
    {
     "name": "stdout",
     "output_type": "stream",
     "text": [
      "Using selected backend cpu. If you want to use gpu, set use_gpu = True.\n"
     ]
    },
    {
     "name": "stderr",
     "output_type": "stream",
     "text": [
      " 31%|███       | 36/118 [03:11<06:47,  4.97s/it]"
     ]
    },
    {
     "name": "stdout",
     "output_type": "stream",
     "text": [
      "Using selected backend cpu. If you want to use gpu, set use_gpu = True.\n"
     ]
    },
    {
     "name": "stderr",
     "output_type": "stream",
     "text": [
      " 31%|███▏      | 37/118 [03:16<06:46,  5.02s/it]"
     ]
    },
    {
     "name": "stdout",
     "output_type": "stream",
     "text": [
      "Using selected backend cpu. If you want to use gpu, set use_gpu = True.\n"
     ]
    },
    {
     "name": "stderr",
     "output_type": "stream",
     "text": [
      " 32%|███▏      | 38/118 [03:21<06:25,  4.82s/it]"
     ]
    },
    {
     "name": "stdout",
     "output_type": "stream",
     "text": [
      "Using selected backend cpu. If you want to use gpu, set use_gpu = True.\n"
     ]
    },
    {
     "name": "stderr",
     "output_type": "stream",
     "text": [
      " 33%|███▎      | 39/118 [03:25<05:58,  4.53s/it]"
     ]
    },
    {
     "name": "stdout",
     "output_type": "stream",
     "text": [
      "Using selected backend cpu. If you want to use gpu, set use_gpu = True.\n"
     ]
    },
    {
     "name": "stderr",
     "output_type": "stream",
     "text": [
      " 34%|███▍      | 40/118 [03:30<06:23,  4.91s/it]"
     ]
    },
    {
     "name": "stdout",
     "output_type": "stream",
     "text": [
      "Using selected backend cpu. If you want to use gpu, set use_gpu = True.\n"
     ]
    },
    {
     "name": "stderr",
     "output_type": "stream",
     "text": [
      " 35%|███▍      | 41/118 [03:37<07:00,  5.46s/it]"
     ]
    },
    {
     "name": "stdout",
     "output_type": "stream",
     "text": [
      "Using selected backend cpu. If you want to use gpu, set use_gpu = True.\n"
     ]
    },
    {
     "name": "stderr",
     "output_type": "stream",
     "text": [
      " 36%|███▌      | 42/118 [03:42<06:32,  5.17s/it]"
     ]
    },
    {
     "name": "stdout",
     "output_type": "stream",
     "text": [
      "Using selected backend cpu. If you want to use gpu, set use_gpu = True.\n"
     ]
    },
    {
     "name": "stderr",
     "output_type": "stream",
     "text": [
      " 36%|███▋      | 43/118 [03:49<07:23,  5.91s/it]"
     ]
    },
    {
     "name": "stdout",
     "output_type": "stream",
     "text": [
      "Using selected backend cpu. If you want to use gpu, set use_gpu = True.\n"
     ]
    },
    {
     "name": "stderr",
     "output_type": "stream",
     "text": [
      " 37%|███▋      | 44/118 [03:53<06:36,  5.36s/it]"
     ]
    },
    {
     "name": "stdout",
     "output_type": "stream",
     "text": [
      "Using selected backend cpu. If you want to use gpu, set use_gpu = True.\n"
     ]
    },
    {
     "name": "stderr",
     "output_type": "stream",
     "text": [
      " 38%|███▊      | 45/118 [04:01<07:12,  5.93s/it]"
     ]
    },
    {
     "name": "stdout",
     "output_type": "stream",
     "text": [
      "Using selected backend cpu. If you want to use gpu, set use_gpu = True.\n"
     ]
    },
    {
     "name": "stderr",
     "output_type": "stream",
     "text": [
      " 39%|███▉      | 46/118 [04:17<10:55,  9.10s/it]"
     ]
    },
    {
     "name": "stdout",
     "output_type": "stream",
     "text": [
      "Using selected backend cpu. If you want to use gpu, set use_gpu = True.\n"
     ]
    },
    {
     "name": "stderr",
     "output_type": "stream",
     "text": [
      " 40%|███▉      | 47/118 [04:23<09:29,  8.03s/it]"
     ]
    },
    {
     "name": "stdout",
     "output_type": "stream",
     "text": [
      "Using selected backend cpu. If you want to use gpu, set use_gpu = True.\n"
     ]
    },
    {
     "name": "stderr",
     "output_type": "stream",
     "text": [
      " 41%|████      | 48/118 [04:37<11:43, 10.05s/it]"
     ]
    },
    {
     "name": "stdout",
     "output_type": "stream",
     "text": [
      "Using selected backend cpu. If you want to use gpu, set use_gpu = True.\n"
     ]
    },
    {
     "name": "stderr",
     "output_type": "stream",
     "text": [
      " 42%|████▏     | 49/118 [04:50<12:25, 10.80s/it]"
     ]
    },
    {
     "name": "stdout",
     "output_type": "stream",
     "text": [
      "Using selected backend cpu. If you want to use gpu, set use_gpu = True.\n"
     ]
    },
    {
     "name": "stderr",
     "output_type": "stream",
     "text": [
      " 42%|████▏     | 50/118 [04:59<11:31, 10.17s/it]"
     ]
    },
    {
     "name": "stdout",
     "output_type": "stream",
     "text": [
      "Using selected backend cpu. If you want to use gpu, set use_gpu = True.\n"
     ]
    },
    {
     "name": "stderr",
     "output_type": "stream",
     "text": [
      " 43%|████▎     | 51/118 [05:09<11:31, 10.32s/it]"
     ]
    },
    {
     "name": "stdout",
     "output_type": "stream",
     "text": [
      "Using selected backend cpu. If you want to use gpu, set use_gpu = True.\n"
     ]
    },
    {
     "name": "stderr",
     "output_type": "stream",
     "text": [
      " 44%|████▍     | 52/118 [05:16<10:11,  9.27s/it]"
     ]
    },
    {
     "name": "stdout",
     "output_type": "stream",
     "text": [
      "Using selected backend cpu. If you want to use gpu, set use_gpu = True.\n"
     ]
    },
    {
     "name": "stderr",
     "output_type": "stream",
     "text": [
      " 45%|████▍     | 53/118 [05:29<11:21, 10.48s/it]"
     ]
    },
    {
     "name": "stdout",
     "output_type": "stream",
     "text": [
      "Using selected backend cpu. If you want to use gpu, set use_gpu = True.\n"
     ]
    },
    {
     "name": "stderr",
     "output_type": "stream",
     "text": [
      " 46%|████▌     | 54/118 [05:34<09:23,  8.80s/it]"
     ]
    },
    {
     "name": "stdout",
     "output_type": "stream",
     "text": [
      "Using selected backend cpu. If you want to use gpu, set use_gpu = True.\n"
     ]
    },
    {
     "name": "stderr",
     "output_type": "stream",
     "text": [
      " 47%|████▋     | 55/118 [05:41<08:25,  8.03s/it]"
     ]
    },
    {
     "name": "stdout",
     "output_type": "stream",
     "text": [
      "Using selected backend cpu. If you want to use gpu, set use_gpu = True.\n"
     ]
    },
    {
     "name": "stderr",
     "output_type": "stream",
     "text": [
      " 47%|████▋     | 56/118 [05:44<06:58,  6.75s/it]"
     ]
    },
    {
     "name": "stdout",
     "output_type": "stream",
     "text": [
      "Using selected backend cpu. If you want to use gpu, set use_gpu = True.\n"
     ]
    },
    {
     "name": "stderr",
     "output_type": "stream",
     "text": [
      " 48%|████▊     | 57/118 [05:53<07:26,  7.31s/it]"
     ]
    },
    {
     "name": "stdout",
     "output_type": "stream",
     "text": [
      "Using selected backend cpu. If you want to use gpu, set use_gpu = True.\n"
     ]
    },
    {
     "name": "stderr",
     "output_type": "stream",
     "text": [
      " 49%|████▉     | 58/118 [06:01<07:32,  7.54s/it]"
     ]
    },
    {
     "name": "stdout",
     "output_type": "stream",
     "text": [
      "Using selected backend cpu. If you want to use gpu, set use_gpu = True.\n"
     ]
    },
    {
     "name": "stderr",
     "output_type": "stream",
     "text": [
      " 50%|█████     | 59/118 [06:06<06:32,  6.66s/it]"
     ]
    },
    {
     "name": "stdout",
     "output_type": "stream",
     "text": [
      "Using selected backend cpu. If you want to use gpu, set use_gpu = True.\n"
     ]
    },
    {
     "name": "stderr",
     "output_type": "stream",
     "text": [
      " 51%|█████     | 60/118 [06:13<06:42,  6.93s/it]"
     ]
    },
    {
     "name": "stdout",
     "output_type": "stream",
     "text": [
      "Using selected backend cpu. If you want to use gpu, set use_gpu = True.\n"
     ]
    },
    {
     "name": "stderr",
     "output_type": "stream",
     "text": [
      " 52%|█████▏    | 61/118 [06:21<06:55,  7.28s/it]"
     ]
    },
    {
     "name": "stdout",
     "output_type": "stream",
     "text": [
      "Using selected backend cpu. If you want to use gpu, set use_gpu = True.\n"
     ]
    },
    {
     "name": "stderr",
     "output_type": "stream",
     "text": [
      " 53%|█████▎    | 62/118 [06:24<05:31,  5.92s/it]"
     ]
    },
    {
     "name": "stdout",
     "output_type": "stream",
     "text": [
      "Using selected backend cpu. If you want to use gpu, set use_gpu = True.\n"
     ]
    },
    {
     "name": "stderr",
     "output_type": "stream",
     "text": [
      " 53%|█████▎    | 63/118 [06:27<04:29,  4.90s/it]"
     ]
    },
    {
     "name": "stdout",
     "output_type": "stream",
     "text": [
      "Using selected backend cpu. If you want to use gpu, set use_gpu = True.\n"
     ]
    },
    {
     "name": "stderr",
     "output_type": "stream",
     "text": [
      " 54%|█████▍    | 64/118 [06:30<03:58,  4.41s/it]"
     ]
    },
    {
     "name": "stdout",
     "output_type": "stream",
     "text": [
      "Using selected backend cpu. If you want to use gpu, set use_gpu = True.\n"
     ]
    },
    {
     "name": "stderr",
     "output_type": "stream",
     "text": [
      " 55%|█████▌    | 65/118 [06:38<04:50,  5.48s/it]"
     ]
    },
    {
     "name": "stdout",
     "output_type": "stream",
     "text": [
      "Using selected backend cpu. If you want to use gpu, set use_gpu = True.\n"
     ]
    },
    {
     "name": "stderr",
     "output_type": "stream",
     "text": [
      " 56%|█████▌    | 66/118 [06:43<04:46,  5.51s/it]"
     ]
    },
    {
     "name": "stdout",
     "output_type": "stream",
     "text": [
      "Using selected backend cpu. If you want to use gpu, set use_gpu = True.\n"
     ]
    },
    {
     "name": "stderr",
     "output_type": "stream",
     "text": [
      " 57%|█████▋    | 67/118 [06:53<05:43,  6.74s/it]"
     ]
    },
    {
     "name": "stdout",
     "output_type": "stream",
     "text": [
      "Using selected backend cpu. If you want to use gpu, set use_gpu = True.\n"
     ]
    },
    {
     "name": "stderr",
     "output_type": "stream",
     "text": [
      " 58%|█████▊    | 68/118 [07:28<12:37, 15.14s/it]"
     ]
    },
    {
     "name": "stdout",
     "output_type": "stream",
     "text": [
      "Using selected backend cpu. If you want to use gpu, set use_gpu = True.\n"
     ]
    },
    {
     "name": "stderr",
     "output_type": "stream",
     "text": [
      " 58%|█████▊    | 69/118 [07:37<10:56, 13.40s/it]"
     ]
    },
    {
     "name": "stdout",
     "output_type": "stream",
     "text": [
      "Using selected backend cpu. If you want to use gpu, set use_gpu = True.\n"
     ]
    },
    {
     "name": "stderr",
     "output_type": "stream",
     "text": [
      " 59%|█████▉    | 70/118 [07:52<11:03, 13.81s/it]"
     ]
    },
    {
     "name": "stdout",
     "output_type": "stream",
     "text": [
      "Using selected backend cpu. If you want to use gpu, set use_gpu = True.\n"
     ]
    },
    {
     "name": "stderr",
     "output_type": "stream",
     "text": [
      " 60%|██████    | 71/118 [08:10<11:54, 15.20s/it]"
     ]
    },
    {
     "name": "stdout",
     "output_type": "stream",
     "text": [
      "Using selected backend cpu. If you want to use gpu, set use_gpu = True.\n"
     ]
    },
    {
     "name": "stderr",
     "output_type": "stream",
     "text": [
      " 61%|██████    | 72/118 [08:33<13:23, 17.47s/it]"
     ]
    },
    {
     "name": "stdout",
     "output_type": "stream",
     "text": [
      "Using selected backend cpu. If you want to use gpu, set use_gpu = True.\n"
     ]
    },
    {
     "name": "stderr",
     "output_type": "stream",
     "text": [
      " 62%|██████▏   | 73/118 [09:04<16:10, 21.56s/it]"
     ]
    },
    {
     "name": "stdout",
     "output_type": "stream",
     "text": [
      "Using selected backend cpu. If you want to use gpu, set use_gpu = True.\n"
     ]
    },
    {
     "name": "stderr",
     "output_type": "stream",
     "text": [
      " 63%|██████▎   | 74/118 [09:14<13:15, 18.08s/it]"
     ]
    },
    {
     "name": "stdout",
     "output_type": "stream",
     "text": [
      "Using selected backend cpu. If you want to use gpu, set use_gpu = True.\n"
     ]
    },
    {
     "name": "stderr",
     "output_type": "stream",
     "text": [
      " 64%|██████▎   | 75/118 [09:31<12:41, 17.71s/it]"
     ]
    },
    {
     "name": "stdout",
     "output_type": "stream",
     "text": [
      "Using selected backend cpu. If you want to use gpu, set use_gpu = True.\n"
     ]
    },
    {
     "name": "stderr",
     "output_type": "stream",
     "text": [
      " 64%|██████▍   | 76/118 [09:49<12:26, 17.77s/it]"
     ]
    },
    {
     "name": "stdout",
     "output_type": "stream",
     "text": [
      "Using selected backend cpu. If you want to use gpu, set use_gpu = True.\n"
     ]
    },
    {
     "name": "stderr",
     "output_type": "stream",
     "text": [
      " 65%|██████▌   | 77/118 [10:03<11:26, 16.73s/it]"
     ]
    },
    {
     "name": "stdout",
     "output_type": "stream",
     "text": [
      "Using selected backend cpu. If you want to use gpu, set use_gpu = True.\n"
     ]
    },
    {
     "name": "stderr",
     "output_type": "stream",
     "text": [
      " 66%|██████▌   | 78/118 [10:05<08:10, 12.27s/it]"
     ]
    },
    {
     "name": "stdout",
     "output_type": "stream",
     "text": [
      "Using selected backend cpu. If you want to use gpu, set use_gpu = True.\n"
     ]
    },
    {
     "name": "stderr",
     "output_type": "stream",
     "text": [
      " 67%|██████▋   | 79/118 [10:27<09:49, 15.12s/it]"
     ]
    },
    {
     "name": "stdout",
     "output_type": "stream",
     "text": [
      "Using selected backend cpu. If you want to use gpu, set use_gpu = True.\n"
     ]
    },
    {
     "name": "stderr",
     "output_type": "stream",
     "text": [
      " 68%|██████▊   | 80/118 [10:37<08:42, 13.75s/it]"
     ]
    },
    {
     "name": "stdout",
     "output_type": "stream",
     "text": [
      "Using selected backend cpu. If you want to use gpu, set use_gpu = True.\n"
     ]
    },
    {
     "name": "stderr",
     "output_type": "stream",
     "text": [
      " 69%|██████▊   | 81/118 [10:44<07:10, 11.63s/it]"
     ]
    },
    {
     "name": "stdout",
     "output_type": "stream",
     "text": [
      "Using selected backend cpu. If you want to use gpu, set use_gpu = True.\n"
     ]
    },
    {
     "name": "stderr",
     "output_type": "stream",
     "text": [
      " 69%|██████▉   | 82/118 [10:59<07:32, 12.58s/it]"
     ]
    },
    {
     "name": "stdout",
     "output_type": "stream",
     "text": [
      "Using selected backend cpu. If you want to use gpu, set use_gpu = True.\n"
     ]
    },
    {
     "name": "stderr",
     "output_type": "stream",
     "text": [
      " 70%|███████   | 83/118 [11:09<06:50, 11.73s/it]"
     ]
    },
    {
     "name": "stdout",
     "output_type": "stream",
     "text": [
      "Using selected backend cpu. If you want to use gpu, set use_gpu = True.\n"
     ]
    },
    {
     "name": "stderr",
     "output_type": "stream",
     "text": [
      " 71%|███████   | 84/118 [11:34<09:02, 15.95s/it]"
     ]
    },
    {
     "name": "stdout",
     "output_type": "stream",
     "text": [
      "Using selected backend cpu. If you want to use gpu, set use_gpu = True.\n"
     ]
    },
    {
     "name": "stderr",
     "output_type": "stream",
     "text": [
      " 72%|███████▏  | 85/118 [11:57<09:56, 18.08s/it]"
     ]
    },
    {
     "name": "stdout",
     "output_type": "stream",
     "text": [
      "Using selected backend cpu. If you want to use gpu, set use_gpu = True.\n"
     ]
    },
    {
     "name": "stderr",
     "output_type": "stream",
     "text": [
      " 73%|███████▎  | 86/118 [12:12<09:03, 16.97s/it]"
     ]
    },
    {
     "name": "stdout",
     "output_type": "stream",
     "text": [
      "Using selected backend cpu. If you want to use gpu, set use_gpu = True.\n"
     ]
    },
    {
     "name": "stderr",
     "output_type": "stream",
     "text": [
      " 74%|███████▎  | 87/118 [12:20<07:21, 14.24s/it]"
     ]
    },
    {
     "name": "stdout",
     "output_type": "stream",
     "text": [
      "Using selected backend cpu. If you want to use gpu, set use_gpu = True.\n"
     ]
    },
    {
     "name": "stderr",
     "output_type": "stream",
     "text": [
      " 75%|███████▍  | 88/118 [12:30<06:30, 13.00s/it]"
     ]
    },
    {
     "name": "stdout",
     "output_type": "stream",
     "text": [
      "Using selected backend cpu. If you want to use gpu, set use_gpu = True.\n"
     ]
    },
    {
     "name": "stderr",
     "output_type": "stream",
     "text": [
      " 75%|███████▌  | 89/118 [12:40<05:49, 12.06s/it]"
     ]
    },
    {
     "name": "stdout",
     "output_type": "stream",
     "text": [
      "Using selected backend cpu. If you want to use gpu, set use_gpu = True.\n"
     ]
    },
    {
     "name": "stderr",
     "output_type": "stream",
     "text": [
      " 76%|███████▋  | 90/118 [12:44<04:33,  9.76s/it]"
     ]
    },
    {
     "name": "stdout",
     "output_type": "stream",
     "text": [
      "Using selected backend cpu. If you want to use gpu, set use_gpu = True.\n"
     ]
    },
    {
     "name": "stderr",
     "output_type": "stream",
     "text": [
      " 77%|███████▋  | 91/118 [12:47<03:31,  7.84s/it]"
     ]
    },
    {
     "name": "stdout",
     "output_type": "stream",
     "text": [
      "Using selected backend cpu. If you want to use gpu, set use_gpu = True.\n"
     ]
    },
    {
     "name": "stderr",
     "output_type": "stream",
     "text": [
      " 78%|███████▊  | 92/118 [12:59<03:51,  8.89s/it]"
     ]
    },
    {
     "name": "stdout",
     "output_type": "stream",
     "text": [
      "Using selected backend cpu. If you want to use gpu, set use_gpu = True.\n"
     ]
    },
    {
     "name": "stderr",
     "output_type": "stream",
     "text": [
      " 79%|███████▉  | 93/118 [13:14<04:26, 10.67s/it]"
     ]
    },
    {
     "name": "stdout",
     "output_type": "stream",
     "text": [
      "Using selected backend cpu. If you want to use gpu, set use_gpu = True.\n"
     ]
    },
    {
     "name": "stderr",
     "output_type": "stream",
     "text": [
      " 80%|███████▉  | 94/118 [13:18<03:29,  8.75s/it]"
     ]
    },
    {
     "name": "stdout",
     "output_type": "stream",
     "text": [
      "Using selected backend cpu. If you want to use gpu, set use_gpu = True.\n"
     ]
    },
    {
     "name": "stderr",
     "output_type": "stream",
     "text": [
      " 81%|████████  | 95/118 [13:24<03:05,  8.07s/it]"
     ]
    },
    {
     "name": "stdout",
     "output_type": "stream",
     "text": [
      "Using selected backend cpu. If you want to use gpu, set use_gpu = True.\n"
     ]
    },
    {
     "name": "stderr",
     "output_type": "stream",
     "text": [
      " 81%|████████▏ | 96/118 [13:41<03:53, 10.63s/it]"
     ]
    },
    {
     "name": "stdout",
     "output_type": "stream",
     "text": [
      "Using selected backend cpu. If you want to use gpu, set use_gpu = True.\n"
     ]
    },
    {
     "name": "stderr",
     "output_type": "stream",
     "text": [
      " 82%|████████▏ | 97/118 [13:50<03:33, 10.15s/it]"
     ]
    },
    {
     "name": "stdout",
     "output_type": "stream",
     "text": [
      "Using selected backend cpu. If you want to use gpu, set use_gpu = True.\n"
     ]
    },
    {
     "name": "stderr",
     "output_type": "stream",
     "text": [
      " 83%|████████▎ | 98/118 [14:06<03:58, 11.93s/it]"
     ]
    },
    {
     "name": "stdout",
     "output_type": "stream",
     "text": [
      "Using selected backend cpu. If you want to use gpu, set use_gpu = True.\n"
     ]
    },
    {
     "name": "stderr",
     "output_type": "stream",
     "text": [
      " 84%|████████▍ | 99/118 [14:11<03:07,  9.84s/it]"
     ]
    },
    {
     "name": "stdout",
     "output_type": "stream",
     "text": [
      "Using selected backend cpu. If you want to use gpu, set use_gpu = True.\n"
     ]
    },
    {
     "name": "stderr",
     "output_type": "stream",
     "text": [
      " 85%|████████▍ | 100/118 [14:18<02:39,  8.83s/it]"
     ]
    },
    {
     "name": "stdout",
     "output_type": "stream",
     "text": [
      "Using selected backend cpu. If you want to use gpu, set use_gpu = True.\n"
     ]
    },
    {
     "name": "stderr",
     "output_type": "stream",
     "text": [
      " 86%|████████▌ | 101/118 [14:29<02:43,  9.62s/it]"
     ]
    },
    {
     "name": "stdout",
     "output_type": "stream",
     "text": [
      "Using selected backend cpu. If you want to use gpu, set use_gpu = True.\n"
     ]
    },
    {
     "name": "stderr",
     "output_type": "stream",
     "text": [
      " 86%|████████▋ | 102/118 [14:38<02:29,  9.37s/it]"
     ]
    },
    {
     "name": "stdout",
     "output_type": "stream",
     "text": [
      "Using selected backend cpu. If you want to use gpu, set use_gpu = True.\n"
     ]
    },
    {
     "name": "stderr",
     "output_type": "stream",
     "text": [
      " 87%|████████▋ | 103/118 [14:45<02:09,  8.66s/it]"
     ]
    },
    {
     "name": "stdout",
     "output_type": "stream",
     "text": [
      "Using selected backend cpu. If you want to use gpu, set use_gpu = True.\n"
     ]
    },
    {
     "name": "stderr",
     "output_type": "stream",
     "text": [
      " 88%|████████▊ | 104/118 [14:55<02:06,  9.03s/it]"
     ]
    },
    {
     "name": "stdout",
     "output_type": "stream",
     "text": [
      "Using selected backend cpu. If you want to use gpu, set use_gpu = True.\n"
     ]
    },
    {
     "name": "stderr",
     "output_type": "stream",
     "text": [
      " 89%|████████▉ | 105/118 [15:10<02:20, 10.81s/it]"
     ]
    },
    {
     "name": "stdout",
     "output_type": "stream",
     "text": [
      "Using selected backend cpu. If you want to use gpu, set use_gpu = True.\n"
     ]
    },
    {
     "name": "stderr",
     "output_type": "stream",
     "text": [
      " 90%|████████▉ | 106/118 [15:27<02:33, 12.78s/it]"
     ]
    },
    {
     "name": "stdout",
     "output_type": "stream",
     "text": [
      "Using selected backend cpu. If you want to use gpu, set use_gpu = True.\n"
     ]
    },
    {
     "name": "stderr",
     "output_type": "stream",
     "text": [
      " 91%|█████████ | 107/118 [15:33<01:58, 10.78s/it]"
     ]
    },
    {
     "name": "stdout",
     "output_type": "stream",
     "text": [
      "Using selected backend cpu. If you want to use gpu, set use_gpu = True.\n"
     ]
    },
    {
     "name": "stderr",
     "output_type": "stream",
     "text": [
      " 92%|█████████▏| 108/118 [15:38<01:29,  8.94s/it]"
     ]
    },
    {
     "name": "stdout",
     "output_type": "stream",
     "text": [
      "Using selected backend cpu. If you want to use gpu, set use_gpu = True.\n"
     ]
    },
    {
     "name": "stderr",
     "output_type": "stream",
     "text": [
      " 92%|█████████▏| 109/118 [15:42<01:08,  7.62s/it]"
     ]
    },
    {
     "name": "stdout",
     "output_type": "stream",
     "text": [
      "Using selected backend cpu. If you want to use gpu, set use_gpu = True.\n"
     ]
    },
    {
     "name": "stderr",
     "output_type": "stream",
     "text": [
      " 93%|█████████▎| 110/118 [15:47<00:52,  6.59s/it]"
     ]
    },
    {
     "name": "stdout",
     "output_type": "stream",
     "text": [
      "Using selected backend cpu. If you want to use gpu, set use_gpu = True.\n"
     ]
    },
    {
     "name": "stderr",
     "output_type": "stream",
     "text": [
      " 94%|█████████▍| 111/118 [15:51<00:40,  5.84s/it]"
     ]
    },
    {
     "name": "stdout",
     "output_type": "stream",
     "text": [
      "Using selected backend cpu. If you want to use gpu, set use_gpu = True.\n"
     ]
    },
    {
     "name": "stderr",
     "output_type": "stream",
     "text": [
      " 95%|█████████▍| 112/118 [15:55<00:33,  5.55s/it]"
     ]
    },
    {
     "name": "stdout",
     "output_type": "stream",
     "text": [
      "Using selected backend cpu. If you want to use gpu, set use_gpu = True.\n"
     ]
    },
    {
     "name": "stderr",
     "output_type": "stream",
     "text": [
      " 96%|█████████▌| 113/118 [15:59<00:24,  4.85s/it]"
     ]
    },
    {
     "name": "stdout",
     "output_type": "stream",
     "text": [
      "Using selected backend cpu. If you want to use gpu, set use_gpu = True.\n"
     ]
    },
    {
     "name": "stderr",
     "output_type": "stream",
     "text": [
      " 97%|█████████▋| 114/118 [16:05<00:21,  5.25s/it]"
     ]
    },
    {
     "name": "stdout",
     "output_type": "stream",
     "text": [
      "Using selected backend cpu. If you want to use gpu, set use_gpu = True.\n"
     ]
    },
    {
     "name": "stderr",
     "output_type": "stream",
     "text": [
      " 97%|█████████▋| 115/118 [16:10<00:15,  5.24s/it]"
     ]
    },
    {
     "name": "stdout",
     "output_type": "stream",
     "text": [
      "Using selected backend cpu. If you want to use gpu, set use_gpu = True.\n"
     ]
    },
    {
     "name": "stderr",
     "output_type": "stream",
     "text": [
      " 98%|█████████▊| 116/118 [16:21<00:13,  6.85s/it]"
     ]
    },
    {
     "name": "stdout",
     "output_type": "stream",
     "text": [
      "Using selected backend cpu. If you want to use gpu, set use_gpu = True.\n"
     ]
    },
    {
     "name": "stderr",
     "output_type": "stream",
     "text": [
      " 99%|█████████▉| 117/118 [16:27<00:06,  6.62s/it]"
     ]
    },
    {
     "name": "stdout",
     "output_type": "stream",
     "text": [
      "Using selected backend cpu. If you want to use gpu, set use_gpu = True.\n"
     ]
    },
    {
     "name": "stderr",
     "output_type": "stream",
     "text": [
      "100%|██████████| 118/118 [16:34<00:00,  8.43s/it]"
     ]
    },
    {
     "name": "stdout",
     "output_type": "stream",
     "text": [
      "all_pairwise_index saved\n"
     ]
    },
    {
     "name": "stderr",
     "output_type": "stream",
     "text": [
      "\n"
     ]
    }
   ],
   "source": [
    "torch.cuda.set_device(1)  # 将设备设置为 'cuda:0'\n",
    "\n",
    "import pickle\n",
    "dir = '/home/hanyuji/Workbench/ST/ST_data_check/paste_alignment_cortex/PASTE_align/'  # 保存的位置\n",
    "\n",
    "\n",
    "all_pairwise_index = []\n",
    "for i in tqdm(range(len(adata_list)-1)):\n",
    "# for i in tqdm(range(3)):\n",
    "\n",
    "    pi = pairwise_align(sliceA=adata_list[i],sliceB=adata_list[i+1], backend = ot.backend.TorchBackend(), use_gpu = False, numItermax=50000)\n",
    "    edge_index = get_edge_index(pi)\n",
    "    all_pairwise_index.append(edge_index)\n",
    "    \n",
    "\n",
    "'''保存变量'''\n",
    "with open(dir + 'pairwise_index_1000spot_0715.pkl', 'wb') as file:\n",
    "    pickle.dump(all_pairwise_index, file)\n",
    "print('all_pairwise_index saved')"
   ]
  },
  {
   "cell_type": "code",
   "execution_count": 7,
   "metadata": {},
   "outputs": [
    {
     "data": {
      "text/plain": [
       "[array([[  0,   1,   2, ..., 997, 998, 999],\n",
       "        [697,  31, 419, ..., 755, 950, 524]], dtype=int32),\n",
       " array([[  0,   1,   2, ..., 997, 998, 999],\n",
       "        [617, 961, 298, ..., 804, 311, 162]], dtype=int32),\n",
       " array([[  0,   1,   2, ..., 997, 998, 999],\n",
       "        [411, 930, 477, ..., 373, 578, 648]], dtype=int32),\n",
       " array([[  0,   1,   2, ..., 997, 998, 999],\n",
       "        [658, 346, 313, ..., 930,   7, 261]], dtype=int32),\n",
       " array([[  0,   1,   2, ..., 997, 998, 999],\n",
       "        [425, 965, 215, ...,  67, 928,  92]], dtype=int32),\n",
       " array([[  0,   1,   2, ..., 997, 998, 999],\n",
       "        [460, 766, 306, ..., 946, 824, 541]], dtype=int32),\n",
       " array([[  0,   1,   2, ..., 997, 998, 999],\n",
       "        [323, 262,   8, ..., 816, 255, 263]], dtype=int32),\n",
       " array([[  0,   1,   2, ..., 997, 998, 999],\n",
       "        [934, 778, 966, ..., 353, 325, 491]], dtype=int32),\n",
       " array([[  0,   1,   2, ..., 997, 998, 999],\n",
       "        [800, 722, 442, ..., 202, 414, 351]], dtype=int32),\n",
       " array([[  0,   1,   2, ..., 997, 998, 999],\n",
       "        [514, 939, 779, ..., 942, 344, 391]], dtype=int32),\n",
       " array([[  0,   1,   2, ..., 997, 998, 999],\n",
       "        [414, 433, 863, ..., 265, 987, 779]], dtype=int32),\n",
       " array([[  0,   1,   2, ..., 997, 998, 999],\n",
       "        [ 65, 263, 735, ..., 973, 747, 978]], dtype=int32),\n",
       " array([[  0,   1,   2, ..., 997, 998, 999],\n",
       "        [170, 879, 684, ..., 992, 557, 819]], dtype=int32),\n",
       " array([[  0,   1,   2, ..., 997, 998, 999],\n",
       "        [912, 240, 651, ..., 238, 248, 600]], dtype=int32),\n",
       " array([[  0,   1,   2, ..., 997, 998, 999],\n",
       "        [728, 496, 493, ..., 719, 941, 263]], dtype=int32),\n",
       " array([[  0,   1,   2, ..., 997, 998, 999],\n",
       "        [938, 337,  51, ..., 521, 875, 750]], dtype=int32),\n",
       " array([[  0,   1,   2, ..., 997, 998, 999],\n",
       "        [379, 172, 313, ..., 132, 907, 619]], dtype=int32),\n",
       " array([[  0,   1,   2, ..., 997, 998, 999],\n",
       "        [282, 762, 821, ..., 810, 700, 997]], dtype=int32),\n",
       " array([[  0,   1,   2, ..., 997, 998, 999],\n",
       "        [661, 671, 856, ..., 748, 537,  97]], dtype=int32),\n",
       " array([[  0,   1,   2, ..., 997, 998, 999],\n",
       "        [715, 362, 477, ..., 190, 709, 519]], dtype=int32),\n",
       " array([[  0,   1,   2, ..., 997, 998, 999],\n",
       "        [651, 354, 251, ..., 590, 670, 134]], dtype=int32),\n",
       " array([[  0,   1,   2, ..., 997, 998, 999],\n",
       "        [638, 742, 357, ..., 805,  43, 837]], dtype=int32),\n",
       " array([[  0,   1,   2, ..., 997, 998, 999],\n",
       "        [980,  36, 359, ..., 459,  69, 990]], dtype=int32),\n",
       " array([[  0,   1,   2, ..., 997, 998, 999],\n",
       "        [820, 687, 851, ..., 302, 321, 479]], dtype=int32),\n",
       " array([[  0,   1,   2, ..., 997, 998, 999],\n",
       "        [139, 559, 301, ..., 538,  84, 576]], dtype=int32),\n",
       " array([[  0,   1,   2, ..., 997, 998, 999],\n",
       "        [279, 755, 154, ..., 559, 807, 716]], dtype=int32),\n",
       " array([[  0,   1,   2, ..., 997, 998, 999],\n",
       "        [544, 251, 107, ..., 629, 943, 689]], dtype=int32),\n",
       " array([[  0,   1,   2, ..., 997, 998, 999],\n",
       "        [553, 672, 289, ..., 628, 125,  65]], dtype=int32),\n",
       " array([[  0,   1,   2, ..., 997, 998, 999],\n",
       "        [576, 719, 983, ..., 919, 301, 202]], dtype=int32),\n",
       " array([[  0,   1,   2, ..., 997, 998, 999],\n",
       "        [624, 677, 862, ..., 121, 977, 403]], dtype=int32),\n",
       " array([[  0,   1,   2, ..., 997, 998, 999],\n",
       "        [634, 723, 444, ..., 411, 973, 253]], dtype=int32),\n",
       " array([[  0,   1,   2, ..., 997, 998, 999],\n",
       "        [839, 195, 763, ..., 495, 872, 254]], dtype=int32),\n",
       " array([[  0,   1,   2, ..., 997, 998, 999],\n",
       "        [837, 793, 422, ..., 819, 881, 141]], dtype=int32),\n",
       " array([[  0,   1,   2, ..., 997, 998, 999],\n",
       "        [825, 955, 533, ..., 379, 289, 769]], dtype=int32),\n",
       " array([[  0,   1,   2, ..., 997, 998, 999],\n",
       "        [946, 368, 642, ..., 736, 808, 236]], dtype=int32),\n",
       " array([[  0,   1,   2, ..., 997, 998, 999],\n",
       "        [521, 684, 450, ..., 625, 851, 896]], dtype=int32),\n",
       " array([[  0,   1,   2, ..., 997, 998, 999],\n",
       "        [464, 316, 278, ..., 675, 647, 241]], dtype=int32),\n",
       " array([[  0,   1,   2, ..., 997, 998, 999],\n",
       "        [508, 247, 715, ..., 766, 896, 332]], dtype=int32),\n",
       " array([[  0,   1,   2, ..., 997, 998, 999],\n",
       "        [310, 230, 295, ..., 729, 267, 952]], dtype=int32),\n",
       " array([[  0,   1,   2, ..., 997, 998, 999],\n",
       "        [538, 596, 118, ..., 255,  60, 310]], dtype=int32),\n",
       " array([[  0,   1,   2, ..., 997, 998, 999],\n",
       "        [ 78, 963, 209, ..., 688, 855,  21]], dtype=int32),\n",
       " array([[  0,   1,   2, ..., 997, 998, 999],\n",
       "        [501, 930, 143, ..., 715, 311, 463]], dtype=int32),\n",
       " array([[  0,   1,   2, ..., 997, 998, 999],\n",
       "        [710, 147, 563, ..., 960,  35, 841]], dtype=int32),\n",
       " array([[  0,   1,   2, ..., 997, 998, 999],\n",
       "        [293, 119,  60, ..., 201,  74, 273]], dtype=int32),\n",
       " array([[  0,   1,   2, ..., 997, 998, 999],\n",
       "        [764, 708, 133, ..., 798, 827, 214]], dtype=int32),\n",
       " array([[  0,   1,   2, ..., 997, 998, 999],\n",
       "        [192, 433, 353, ..., 774, 651, 282]], dtype=int32),\n",
       " array([[  0,   1,   2, ..., 997, 998, 999],\n",
       "        [413, 193, 619, ..., 161, 757, 245]], dtype=int32),\n",
       " array([[  0,   1,   2, ..., 997, 998, 999],\n",
       "        [463, 727, 600, ..., 607, 516, 975]], dtype=int32),\n",
       " array([[  0,   1,   2, ..., 997, 998, 999],\n",
       "        [217,  49, 594, ..., 831,  15, 951]], dtype=int32),\n",
       " array([[  0,   1,   2, ..., 997, 998, 999],\n",
       "        [337, 249, 757, ..., 865, 431,   3]], dtype=int32),\n",
       " array([[  0,   1,   2, ..., 997, 998, 999],\n",
       "        [500, 914, 265, ..., 422, 820, 554]], dtype=int32),\n",
       " array([[  0,   1,   2, ..., 997, 998, 999],\n",
       "        [109, 610, 839, ..., 959, 886, 152]], dtype=int32),\n",
       " array([[  0,   1,   2, ..., 997, 998, 999],\n",
       "        [370, 179, 810, ..., 635, 287, 161]], dtype=int32),\n",
       " array([[  0,   1,   2, ..., 997, 998, 999],\n",
       "        [ 73, 589, 612, ..., 431, 785,  20]], dtype=int32),\n",
       " array([[  0,   1,   2, ..., 997, 998, 999],\n",
       "        [873, 579, 963, ..., 124,  81, 418]], dtype=int32),\n",
       " array([[  0,   1,   2, ..., 997, 998, 999],\n",
       "        [589,  68,  66, ..., 717, 254,  87]], dtype=int32),\n",
       " array([[  0,   1,   2, ..., 997, 998, 999],\n",
       "        [638, 492, 672, ..., 749, 119, 159]], dtype=int32),\n",
       " array([[  0,   1,   2, ..., 997, 998, 999],\n",
       "        [243, 171, 834, ..., 936, 883, 576]], dtype=int32),\n",
       " array([[  0,   1,   2, ..., 997, 998, 999],\n",
       "        [237, 100, 802, ..., 829, 909, 436]], dtype=int32),\n",
       " array([[  0,   1,   2, ..., 997, 998, 999],\n",
       "        [312, 384, 271, ...,  19, 807, 985]], dtype=int32),\n",
       " array([[  0,   1,   2, ..., 997, 998, 999],\n",
       "        [ 56, 718, 374, ..., 614, 896, 777]], dtype=int32),\n",
       " array([[  0,   1,   2, ..., 997, 998, 999],\n",
       "        [537, 107, 257, ..., 475,  86, 787]], dtype=int32),\n",
       " array([[  0,   1,   2, ..., 997, 998, 999],\n",
       "        [834, 954, 373, ...,  23,  44, 554]], dtype=int32),\n",
       " array([[  0,   1,   2, ..., 997, 998, 999],\n",
       "        [798, 145, 753, ...,  84, 759, 527]], dtype=int32),\n",
       " array([[  0,   1,   2, ..., 997, 998, 999],\n",
       "        [ 38, 831, 219, ..., 878, 203, 681]], dtype=int32),\n",
       " array([[  0,   1,   2, ..., 997, 998, 999],\n",
       "        [186, 930, 120, ..., 425, 537, 273]], dtype=int32),\n",
       " array([[  0,   1,   2, ..., 997, 998, 999],\n",
       "        [582, 634, 313, ..., 762, 179, 922]], dtype=int32),\n",
       " array([[  0,   1,   2, ..., 997, 998, 999],\n",
       "        [804, 525, 230, ..., 595, 968, 755]], dtype=int32),\n",
       " array([[  0,   1,   2, ..., 997, 998, 999],\n",
       "        [729, 168, 935, ..., 493, 124, 898]], dtype=int32),\n",
       " array([[  0,   1,   2, ..., 997, 998, 999],\n",
       "        [770, 356, 494, ...,  16, 874, 243]], dtype=int32),\n",
       " array([[  0,   1,   2, ..., 997, 998, 999],\n",
       "        [902, 901,  80, ..., 510, 398,   2]], dtype=int32),\n",
       " array([[  0,   1,   2, ..., 997, 998, 999],\n",
       "        [ 44, 463, 427, ..., 892,  71, 633]], dtype=int32),\n",
       " array([[  0,   1,   2, ..., 997, 998, 999],\n",
       "        [243, 338, 604, ..., 167, 473, 692]], dtype=int32),\n",
       " array([[  0,   1,   2, ..., 997, 998, 999],\n",
       "        [898, 568, 448, ..., 496, 712,  10]], dtype=int32),\n",
       " array([[  0,   1,   2, ..., 997, 998, 999],\n",
       "        [988,  81, 782, ..., 169, 664, 345]], dtype=int32),\n",
       " array([[  0,   1,   2, ..., 997, 998, 999],\n",
       "        [492, 789, 237, ..., 277, 197, 526]], dtype=int32),\n",
       " array([[  0,   1,   2, ..., 997, 998, 999],\n",
       "        [718, 464, 645, ..., 328, 283, 563]], dtype=int32),\n",
       " array([[  0,   1,   2, ..., 997, 998, 999],\n",
       "        [831, 854, 940, ..., 824,  65, 393]], dtype=int32),\n",
       " array([[  0,   1,   2, ..., 997, 998, 999],\n",
       "        [244, 900, 915, ..., 427, 777, 227]], dtype=int32),\n",
       " array([[  0,   1,   2, ..., 997, 998, 999],\n",
       "        [183, 259, 437, ..., 578,   5,  18]], dtype=int32),\n",
       " array([[  0,   1,   2, ..., 997, 998, 999],\n",
       "        [917, 544, 623, ..., 748, 947, 485]], dtype=int32),\n",
       " array([[  0,   1,   2, ..., 997, 998, 999],\n",
       "        [920, 533, 693, ..., 138, 878, 327]], dtype=int32),\n",
       " array([[  0,   1,   2, ..., 997, 998, 999],\n",
       "        [684, 278,  96, ..., 669, 718,  89]], dtype=int32),\n",
       " array([[  0,   1,   2, ..., 997, 998, 999],\n",
       "        [478, 334, 876, ..., 102, 372, 987]], dtype=int32),\n",
       " array([[  0,   1,   2, ..., 997, 998, 999],\n",
       "        [768, 449, 155, ..., 921, 309, 262]], dtype=int32),\n",
       " array([[  0,   1,   2, ..., 997, 998, 999],\n",
       "        [978, 650, 880, ..., 119,  70,  64]], dtype=int32),\n",
       " array([[  0,   1,   2, ..., 997, 998, 999],\n",
       "        [704, 907, 960, ..., 113, 915, 345]], dtype=int32),\n",
       " array([[  0,   1,   2, ..., 997, 998, 999],\n",
       "        [719, 765, 906, ..., 657, 938, 586]], dtype=int32),\n",
       " array([[  0,   1,   2, ..., 997, 998, 999],\n",
       "        [ 90, 961, 989, ..., 557, 942, 827]], dtype=int32),\n",
       " array([[  0,   1,   2, ..., 997, 998, 999],\n",
       "        [414,  33, 536, ..., 301, 904, 830]], dtype=int32),\n",
       " array([[  0,   1,   2, ..., 997, 998, 999],\n",
       "        [946, 524, 638, ..., 868, 275,  63]], dtype=int32),\n",
       " array([[  0,   1,   2, ..., 997, 998, 999],\n",
       "        [849, 948, 914, ..., 869, 270, 659]], dtype=int32),\n",
       " array([[  0,   1,   2, ..., 997, 998, 999],\n",
       "        [858, 674, 732, ..., 215,  63, 191]], dtype=int32),\n",
       " array([[  0,   1,   2, ..., 997, 998, 999],\n",
       "        [757, 946, 868, ..., 475, 828, 227]], dtype=int32),\n",
       " array([[  0,   1,   2, ..., 997, 998, 999],\n",
       "        [864, 351, 216, ..., 729, 739, 666]], dtype=int32),\n",
       " array([[  0,   1,   2, ..., 997, 998, 999],\n",
       "        [499, 302, 397, ..., 461, 957, 611]], dtype=int32),\n",
       " array([[  0,   1,   2, ..., 997, 998, 999],\n",
       "        [914, 702, 502, ..., 799, 728, 244]], dtype=int32),\n",
       " array([[  0,   1,   2, ..., 997, 998, 999],\n",
       "        [127, 403, 649, ...,  83, 836, 591]], dtype=int32),\n",
       " array([[  0,   1,   2, ..., 997, 998, 999],\n",
       "        [451, 679, 591, ..., 338, 333, 215]], dtype=int32),\n",
       " array([[  0,   1,   2, ..., 997, 998, 999],\n",
       "        [785, 650, 405, ..., 943, 743, 311]], dtype=int32),\n",
       " array([[  0,   1,   2, ..., 997, 998, 999],\n",
       "        [594, 561, 520, ..., 518, 758, 456]], dtype=int32),\n",
       " array([[  0,   1,   2, ..., 997, 998, 999],\n",
       "        [832, 267, 672, ..., 861, 852, 101]], dtype=int32),\n",
       " array([[  0,   1,   2, ..., 997, 998, 999],\n",
       "        [134, 628, 273, ..., 143,   4, 569]], dtype=int32),\n",
       " array([[  0,   1,   2, ..., 997, 998, 999],\n",
       "        [181, 129, 669, ..., 482, 271, 141]], dtype=int32),\n",
       " array([[  0,   1,   2, ..., 997, 998, 999],\n",
       "        [121, 242, 595, ..., 559, 443, 574]], dtype=int32),\n",
       " array([[  0,   1,   2, ..., 997, 998, 999],\n",
       "        [752, 963, 635, ..., 850, 821, 809]], dtype=int32),\n",
       " array([[  0,   1,   2, ..., 997, 998, 999],\n",
       "        [836, 861, 455, ...,  41, 343, 591]], dtype=int32),\n",
       " array([[  0,   1,   2, ..., 997, 998, 999],\n",
       "        [213, 774, 882, ..., 210, 669, 288]], dtype=int32),\n",
       " array([[  0,   1,   2, ..., 997, 998, 999],\n",
       "        [670,  56, 406, ..., 359,  91, 305]], dtype=int32),\n",
       " array([[  0,   1,   2, ..., 997, 998, 999],\n",
       "        [ 84,  31, 132, ..., 679, 281,  64]], dtype=int32),\n",
       " array([[  0,   1,   2, ..., 997, 998, 999],\n",
       "        [611, 104, 316, ..., 563,  61, 867]], dtype=int32),\n",
       " array([[  0,   1,   2, ..., 997, 998, 999],\n",
       "        [357, 647, 849, ..., 969, 625, 440]], dtype=int32),\n",
       " array([[  0,   1,   2, ..., 997, 998, 999],\n",
       "        [792, 886, 287, ..., 526, 854, 132]], dtype=int32),\n",
       " array([[  0,   1,   2, ..., 997, 998, 999],\n",
       "        [937, 692, 695, ..., 436, 863, 659]], dtype=int32),\n",
       " array([[  0,   1,   2, ..., 997, 998, 999],\n",
       "        [641, 198, 688, ..., 533, 852, 329]], dtype=int32),\n",
       " array([[  0,   1,   2, ..., 997, 998, 999],\n",
       "        [649, 180, 606, ..., 588, 617, 708]], dtype=int32),\n",
       " array([[  0,   1,   2, ..., 997, 998, 999],\n",
       "        [779, 365, 181, ..., 792, 350, 615]], dtype=int32),\n",
       " array([[  0,   1,   2, ..., 997, 998, 999],\n",
       "        [ 43, 129, 802, ..., 416, 600, 879]], dtype=int32)]"
      ]
     },
     "execution_count": 7,
     "metadata": {},
     "output_type": "execute_result"
    }
   ],
   "source": [
    "all_pairwise_index"
   ]
  },
  {
   "cell_type": "code",
   "execution_count": null,
   "metadata": {},
   "outputs": [],
   "source": []
  },
  {
   "cell_type": "code",
   "execution_count": 13,
   "metadata": {},
   "outputs": [
    {
     "name": "stdout",
     "output_type": "stream",
     "text": [
      "paths saved\n"
     ]
    }
   ],
   "source": [
    "def track_sequence(start, arrays):\n",
    "    # start是起始数字，arrays是数组列表\n",
    "    path = [start]  # 轨迹起始\n",
    "    current = start\n",
    "    for arr in arrays:\n",
    "        idx = np.where(arr[0] == current)[0][0]  # 找到current在第一维的位置\n",
    "        current = arr[1][idx]  # 获取该位置在第二维的对应数字\n",
    "        path.append(current)  # 添加到路径中\n",
    "    return path\n",
    "\n",
    "\n",
    "# 跟踪所有起始数字的轨迹\n",
    "paths = np.array([track_sequence(i, all_pairwise_index) for i in range(1000)])\n",
    "\n",
    "\n",
    "'''保存变量'''\n",
    "np.save(dir + 'cortex_macaque1_track_sequence_1000spot.npy', paths)\n",
    "print('paths saved')\n"
   ]
  },
  {
   "cell_type": "code",
   "execution_count": 1,
   "metadata": {},
   "outputs": [
    {
     "ename": "NameError",
     "evalue": "name 'paths' is not defined",
     "output_type": "error",
     "traceback": [
      "\u001b[0;31m---------------------------------------------------------------------------\u001b[0m",
      "\u001b[0;31mNameError\u001b[0m                                 Traceback (most recent call last)",
      "Cell \u001b[0;32mIn[1], line 1\u001b[0m\n\u001b[0;32m----> 1\u001b[0m \u001b[43mpaths\u001b[49m[\u001b[38;5;241m42\u001b[39m]\n",
      "\u001b[0;31mNameError\u001b[0m: name 'paths' is not defined"
     ]
    }
   ],
   "source": [
    "paths[42]"
   ]
  },
  {
   "cell_type": "markdown",
   "metadata": {},
   "source": [
    "# 保存结果"
   ]
  },
  {
   "cell_type": "code",
   "execution_count": 6,
   "metadata": {},
   "outputs": [],
   "source": [
    "'''加载变量'''\n",
    "\n",
    "import pickle\n",
    "dir = '/home/hanyuji/Workbench/ST/ST_data_check/paste_alignment_cortex/PASTE_align/'  # 保存的位置\n",
    "\n",
    "# with open(dir + 'pairwise_index_5000spot_0713.pkl', 'rb') as file:\n",
    "#     all_pairwise_index = pickle.load(file)\n",
    "\n",
    "paths = np.load(dir + 'cortex_macaque1_track_sequence_1000spot.npy')\n",
    "\n"
   ]
  },
  {
   "cell_type": "code",
   "execution_count": 7,
   "metadata": {},
   "outputs": [
    {
     "data": {
      "text/plain": [
       "array([[  0, 697, 133, ..., 665, 601,  45],\n",
       "       [  1,  31, 223, ..., 801,  50, 358],\n",
       "       [  2, 419, 368, ..., 553, 323, 504],\n",
       "       ...,\n",
       "       [997, 755, 968, ...,  17, 886, 980],\n",
       "       [998, 950, 955, ..., 383, 999, 879],\n",
       "       [999, 524, 364, ..., 390, 235, 228]])"
      ]
     },
     "execution_count": 7,
     "metadata": {},
     "output_type": "execute_result"
    }
   ],
   "source": [
    "paths"
   ]
  },
  {
   "cell_type": "markdown",
   "metadata": {},
   "source": [
    "# 可视化"
   ]
  },
  {
   "cell_type": "code",
   "execution_count": 8,
   "metadata": {},
   "outputs": [],
   "source": [
    "slice =[adata_list[i] for i in range(0,6)]\n",
    "coo_all =[ slice[i].obsm['spatial'] for i in range(0,6)]\n"
   ]
  },
  {
   "cell_type": "code",
   "execution_count": 20,
   "metadata": {},
   "outputs": [
    {
     "data": {
      "image/png": "[encoded data removed]",
      "text/plain": [
       "<Figure size 1200x700 with 6 Axes>"
      ]
     },
     "execution_count": 20,
     "metadata": {},
     "output_type": "execute_result"
    },
    {
     "data": {
      "image/png": "[encoded data removed]",
      "text/plain": [
       "<Figure size 1200x700 with 6 Axes>"
      ]
     },
     "metadata": {},
     "output_type": "display_data"
    }
   ],
   "source": [
    "axs = plt.subplots(2, 3, figsize=(12, 7))\n",
    "axs[i]"
   ]
  },
  {
   "cell_type": "code",
   "execution_count": 24,
   "metadata": {},
   "outputs": [
    {
     "data": {
      "image/png": "[encoded data removed]",
      "text/plain": [
       "<Figure size 1200x700 with 6 Axes>"
      ]
     },
     "metadata": {},
     "output_type": "display_data"
    }
   ],
   "source": [
    "fig, axs = plt.subplots(2, 3, figsize=(12, 7))"
   ]
  },
  {
   "cell_type": "code",
   "execution_count": null,
   "metadata": {},
   "outputs": [],
   "source": []
  },
  {
   "cell_type": "code",
   "execution_count": null,
   "metadata": {},
   "outputs": [],
   "source": []
  },
  {
   "cell_type": "code",
   "execution_count": 27,
   "metadata": {},
   "outputs": [
    {
     "data": {
      "image/png": "[encoded data removed]",
      "text/plain": [
       "<Figure size 1200x700 with 6 Axes>"
      ]
     },
     "metadata": {},
     "output_type": "display_data"
    }
   ],
   "source": [
    "def plt_aligned_point(choiced_index):\n",
    "    '''\n",
    "    随机选取两个对齐的spot\n",
    "    展示两个点的坐标\n",
    "    持续1s\n",
    "    '''\n",
    "\n",
    "    aligned_point = [coo_all[i][paths[choiced_index,i]] for i in range(0,6)]\n",
    "\n",
    "    fig, axs = plt.subplots(2, 3, figsize=(12, 7))\n",
    "    \n",
    "    # 背景\n",
    "    for i in range(6):\n",
    "        if i<3:\n",
    "            axs[0, i].scatter(coo_all[i][:, 0], coo_all[i][:, 1], c='gray', marker='x',s=5)\n",
    "        else:\n",
    "            axs[1, i-3].scatter(coo_all[i][:, 0], coo_all[i][:, 1], c='gray', marker='x',s=5)\n",
    "\n",
    "    # 对齐的两个点\n",
    "    for i in range(6):\n",
    "        if i<3:\n",
    "            axs[0, i].scatter(aligned_point[i][0], aligned_point[i][1], c='r', marker='x',s=80)\n",
    "        else:\n",
    "            axs[1, i-3].scatter(aligned_point[i][0], aligned_point[i][1], c='r', marker='x',s=80)\n",
    "\n",
    "    plt.show()\n",
    "    # display(plt.gcf())\n",
    "    time.sleep(1)  # 等待1秒钟\n",
    "    clear_output(wait=True)\n",
    "\n",
    "\n",
    "import time\n",
    "from IPython.display import clear_output, display\n",
    "\n",
    "for i in range(15):\n",
    "    choiced_index = np.random.randint(1000)\n",
    "    plt_aligned_point(choiced_index)\n"
   ]
  },
  {
   "cell_type": "code",
   "execution_count": 22,
   "metadata": {},
   "outputs": [
    {
     "data": {
      "image/png": "[encoded data removed]",
      "text/plain": [
       "<Figure size 900x500 with 2 Axes>"
      ]
     },
     "metadata": {},
     "output_type": "display_data"
    }
   ],
   "source": [
    "import matplotlib.pyplot as plt\n",
    "\n",
    "s0_1 = [slice_0,slice_1]\n",
    "fig, axs = plt.subplots(1, 2, figsize=(9, 5))\n",
    "\n",
    "for i, ax in enumerate(axs.flat):\n",
    "    coo = pd.DataFrame(s0_1[i].obsm['spatial'])\n",
    "    ax.scatter(coo[0], coo[1], c='b', marker='x',s=1)\n",
    "\n",
    "plt.show()"
   ]
  },
  {
   "cell_type": "code",
   "execution_count": null,
   "metadata": {},
   "outputs": [],
   "source": []
  }
 ],
 "metadata": {
  "kernelspec": {
   "display_name": "PASTE",
   "language": "python",
   "name": "python3"
  },
  "language_info": {
   "codemirror_mode": {
    "name": "ipython",
    "version": 3
   },
   "file_extension": ".py",
   "mimetype": "text/x-python",
   "name": "python",
   "nbconvert_exporter": "python",
   "pygments_lexer": "ipython3",
   "version": "3.9.19"
  }
 },
 "nbformat": 4,
 "nbformat_minor": 2
}
