{
 "cells": [
  {
   "cell_type": "code",
   "execution_count": 1,
   "metadata": {},
   "outputs": [],
   "source": [
    "import pandas as pd\n",
    "import numpy as np\n",
    "from anndata import AnnData\n",
    "import anndata as ad\n",
    "import scanpy as sc\n",
    "import scipy.sparse as sp\n",
    "import glob\n",
    "from tqdm import tqdm\n",
    "from paste import pairwise_align\n",
    "import ot\n",
    "import torch\n",
    "import matplotlib.pyplot as plt"
   ]
  },
  {
   "cell_type": "code",
   "execution_count": 2,
   "metadata": {},
   "outputs": [],
   "source": [
    "l = torch.nn.Linear(3,3).to('cuda:0')"
   ]
  },
  {
   "cell_type": "markdown",
   "metadata": {},
   "source": [
    "# 切片的z坐标"
   ]
  },
  {
   "cell_type": "code",
   "execution_count": 3,
   "metadata": {},
   "outputs": [
    {
     "name": "stderr",
     "output_type": "stream",
     "text": [
      "/tmp/ipykernel_985340/2183458095.py:3: SettingWithCopyWarning: \n",
      "A value is trying to be set on a copy of a slice from a DataFrame.\n",
      "Try using .loc[row_indexer,col_indexer] = value instead\n",
      "\n",
      "See the caveats in the documentation: https://pandas.pydata.org/pandas-docs/stable/user_guide/indexing.html#returning-a-view-versus-a-copy\n",
      "  z_monkey_1['z'] = pd.to_numeric(z_monkey_1['EBZ (mm)'].str.replace(' ', ''), errors='coerce')  # 字符串转换为浮点数\n",
      "/tmp/ipykernel_985340/2183458095.py:5: SettingWithCopyWarning: \n",
      "A value is trying to be set on a copy of a slice from a DataFrame.\n",
      "Try using .loc[row_indexer,col_indexer] = value instead\n",
      "\n",
      "See the caveats in the documentation: https://pandas.pydata.org/pandas-docs/stable/user_guide/indexing.html#returning-a-view-versus-a-copy\n",
      "  z_monkey_1['gap'] = z_monkey_1['z'].diff()\n"
     ]
    },
    {
     "data": {
      "text/html": [
       "<div>\n",
       "<style scoped>\n",
       "    .dataframe tbody tr th:only-of-type {\n",
       "        vertical-align: middle;\n",
       "    }\n",
       "\n",
       "    .dataframe tbody tr th {\n",
       "        vertical-align: top;\n",
       "    }\n",
       "\n",
       "    .dataframe thead th {\n",
       "        text-align: right;\n",
       "    }\n",
       "</style>\n",
       "<table border=\"1\" class=\"dataframe\">\n",
       "  <thead>\n",
       "    <tr style=\"text-align: right;\">\n",
       "      <th></th>\n",
       "      <th>Section ID</th>\n",
       "      <th>Monkey</th>\n",
       "      <th>EBZ (mm)</th>\n",
       "      <th>Number of cells</th>\n",
       "      <th>z</th>\n",
       "      <th>gap</th>\n",
       "    </tr>\n",
       "  </thead>\n",
       "  <tbody>\n",
       "    <tr>\n",
       "      <th>0</th>\n",
       "      <td>T155</td>\n",
       "      <td>#1</td>\n",
       "      <td>41.08</td>\n",
       "      <td>17613</td>\n",
       "      <td>41.08</td>\n",
       "      <td>0.00</td>\n",
       "    </tr>\n",
       "    <tr>\n",
       "      <th>1</th>\n",
       "      <td>T153</td>\n",
       "      <td>#1</td>\n",
       "      <td>40.06</td>\n",
       "      <td>42104</td>\n",
       "      <td>40.06</td>\n",
       "      <td>-1.02</td>\n",
       "    </tr>\n",
       "    <tr>\n",
       "      <th>2</th>\n",
       "      <td>T151</td>\n",
       "      <td>#1</td>\n",
       "      <td>39.58</td>\n",
       "      <td>53616</td>\n",
       "      <td>39.58</td>\n",
       "      <td>-0.48</td>\n",
       "    </tr>\n",
       "    <tr>\n",
       "      <th>3</th>\n",
       "      <td>T149</td>\n",
       "      <td>#1</td>\n",
       "      <td>39.05</td>\n",
       "      <td>50213</td>\n",
       "      <td>39.05</td>\n",
       "      <td>-0.53</td>\n",
       "    </tr>\n",
       "    <tr>\n",
       "      <th>4</th>\n",
       "      <td>T147</td>\n",
       "      <td>#1</td>\n",
       "      <td>38.56</td>\n",
       "      <td>37766</td>\n",
       "      <td>38.56</td>\n",
       "      <td>-0.49</td>\n",
       "    </tr>\n",
       "    <tr>\n",
       "      <th>...</th>\n",
       "      <td>...</td>\n",
       "      <td>...</td>\n",
       "      <td>...</td>\n",
       "      <td>...</td>\n",
       "      <td>...</td>\n",
       "      <td>...</td>\n",
       "    </tr>\n",
       "    <tr>\n",
       "      <th>114</th>\n",
       "      <td>T136</td>\n",
       "      <td>#1</td>\n",
       "      <td>-17.87</td>\n",
       "      <td>134776</td>\n",
       "      <td>-17.87</td>\n",
       "      <td>-0.63</td>\n",
       "    </tr>\n",
       "    <tr>\n",
       "      <th>115</th>\n",
       "      <td>T134</td>\n",
       "      <td>#1</td>\n",
       "      <td>-18.46</td>\n",
       "      <td>259903</td>\n",
       "      <td>-18.46</td>\n",
       "      <td>-0.59</td>\n",
       "    </tr>\n",
       "    <tr>\n",
       "      <th>116</th>\n",
       "      <td>T132</td>\n",
       "      <td>#1</td>\n",
       "      <td>-19.17</td>\n",
       "      <td>227914</td>\n",
       "      <td>-19.17</td>\n",
       "      <td>-0.71</td>\n",
       "    </tr>\n",
       "    <tr>\n",
       "      <th>117</th>\n",
       "      <td>T128</td>\n",
       "      <td>#1</td>\n",
       "      <td>-19.58</td>\n",
       "      <td>117120</td>\n",
       "      <td>-19.58</td>\n",
       "      <td>-0.41</td>\n",
       "    </tr>\n",
       "    <tr>\n",
       "      <th>118</th>\n",
       "      <td>T126</td>\n",
       "      <td>#1</td>\n",
       "      <td>-20.2</td>\n",
       "      <td>32272</td>\n",
       "      <td>-20.20</td>\n",
       "      <td>-0.62</td>\n",
       "    </tr>\n",
       "  </tbody>\n",
       "</table>\n",
       "<p>119 rows × 6 columns</p>\n",
       "</div>"
      ],
      "text/plain": [
       "    Section ID Monkey EBZ (mm)  Number of cells      z   gap\n",
       "0         T155     #1    41.08            17613  41.08  0.00\n",
       "1         T153     #1    40.06            42104  40.06 -1.02\n",
       "2         T151     #1    39.58            53616  39.58 -0.48\n",
       "3         T149     #1    39.05            50213  39.05 -0.53\n",
       "4         T147     #1    38.56            37766  38.56 -0.49\n",
       "..         ...    ...      ...              ...    ...   ...\n",
       "114       T136     #1   -17.87           134776 -17.87 -0.63\n",
       "115       T134     #1   -18.46           259903 -18.46 -0.59\n",
       "116       T132     #1   -19.17           227914 -19.17 -0.71\n",
       "117       T128     #1   -19.58           117120 -19.58 -0.41\n",
       "118       T126     #1    -20.2            32272 -20.20 -0.62\n",
       "\n",
       "[119 rows x 6 columns]"
      ]
     },
     "execution_count": 3,
     "metadata": {},
     "output_type": "execute_result"
    }
   ],
   "source": [
    "z_csv = pd.read_csv('/home/hanyuji/Data/ST_data/macaque_cortex/mmc3_macaque.csv')\n",
    "z_monkey_1 = z_csv[z_csv['Monkey'] == '#1']\n",
    "z_monkey_1['z'] = pd.to_numeric(z_monkey_1['EBZ (mm)'].str.replace(' ', ''), errors='coerce')  # 字符串转换为浮点数\n",
    "\n",
    "z_monkey_1['gap'] = z_monkey_1['z'].diff()\n",
    "z_monkey_1.loc[z_monkey_1.index[0], 'gap'] = 0 # 将第一行的'gap'值设为0\n",
    "z_monkey_1"
   ]
  },
  {
   "cell_type": "code",
   "execution_count": 4,
   "metadata": {},
   "outputs": [
    {
     "data": {
      "text/plain": [
       "['T155',\n",
       " 'T153',\n",
       " 'T151',\n",
       " 'T149',\n",
       " 'T147',\n",
       " 'T144',\n",
       " 'T142',\n",
       " 'T140',\n",
       " 'T138',\n",
       " 'T143',\n",
       " 'T141',\n",
       " 'T139',\n",
       " 'T137',\n",
       " 'T135',\n",
       " 'T133',\n",
       " 'T130',\n",
       " 'T131',\n",
       " 'T129',\n",
       " 'T127',\n",
       " 'T125',\n",
       " 'T123',\n",
       " 'T121',\n",
       " 'T119',\n",
       " 'T117',\n",
       " 'T115',\n",
       " 'T113',\n",
       " 'T111',\n",
       " 'T109',\n",
       " 'T107',\n",
       " 'T105',\n",
       " 'T103',\n",
       " 'T101',\n",
       " 'T99',\n",
       " 'T97',\n",
       " 'T95',\n",
       " 'T93',\n",
       " 'T91',\n",
       " 'T89',\n",
       " 'T87',\n",
       " 'T85',\n",
       " 'T83',\n",
       " 'T81',\n",
       " 'T79',\n",
       " 'T77',\n",
       " 'T75',\n",
       " 'T73',\n",
       " 'T71',\n",
       " 'T67',\n",
       " 'T65',\n",
       " 'T63',\n",
       " 'T61',\n",
       " 'T59',\n",
       " 'T57',\n",
       " 'T55',\n",
       " 'T53',\n",
       " 'T51',\n",
       " 'T49',\n",
       " 'T47',\n",
       " 'T45',\n",
       " 'T43',\n",
       " 'T41',\n",
       " 'T39',\n",
       " 'T37',\n",
       " 'T33',\n",
       " 'T31',\n",
       " 'T29',\n",
       " 'T27',\n",
       " 'T25',\n",
       " 'T28',\n",
       " 'T30',\n",
       " 'T32',\n",
       " 'T34',\n",
       " 'T36',\n",
       " 'T38',\n",
       " 'T40',\n",
       " 'T42',\n",
       " 'T44',\n",
       " 'T48',\n",
       " 'T50',\n",
       " 'T52',\n",
       " 'T54',\n",
       " 'T56',\n",
       " 'T58',\n",
       " 'T60',\n",
       " 'T62',\n",
       " 'T64',\n",
       " 'T66',\n",
       " 'T68',\n",
       " 'T72',\n",
       " 'T74',\n",
       " 'T76',\n",
       " 'T78',\n",
       " 'T80',\n",
       " 'T82',\n",
       " 'T84',\n",
       " 'T88',\n",
       " 'T90',\n",
       " 'T92',\n",
       " 'T94',\n",
       " 'T96',\n",
       " 'T98',\n",
       " 'T100',\n",
       " 'T102',\n",
       " 'T104',\n",
       " 'T106',\n",
       " 'T108',\n",
       " 'T110',\n",
       " 'T112',\n",
       " 'T114',\n",
       " 'T116',\n",
       " 'T118',\n",
       " 'T120',\n",
       " 'T122',\n",
       " 'T124',\n",
       " 'T136',\n",
       " 'T134',\n",
       " 'T132',\n",
       " 'T128',\n",
       " 'T126']"
      ]
     },
     "execution_count": 4,
     "metadata": {},
     "output_type": "execute_result"
    }
   ],
   "source": [
    "# 切片的文件名index\n",
    "file_index = z_monkey_1['Section ID'].to_list()\n",
    "file_index"
   ]
  },
  {
   "cell_type": "code",
   "execution_count": 7,
   "metadata": {},
   "outputs": [
    {
     "data": {
      "text/plain": [
       "40.06"
      ]
     },
     "execution_count": 7,
     "metadata": {},
     "output_type": "execute_result"
    }
   ],
   "source": [
    "value = z_monkey_1.loc[z_monkey_1['Section ID'] == 'T153', 'z'].values[0]\n",
    "value"
   ]
  },
  {
   "cell_type": "code",
   "execution_count": null,
   "metadata": {},
   "outputs": [],
   "source": []
  },
  {
   "cell_type": "markdown",
   "metadata": {},
   "source": [
    "# 取切片的子集"
   ]
  },
  {
   "cell_type": "code",
   "execution_count": 16,
   "metadata": {},
   "outputs": [],
   "source": [
    "def random_subset(adata, cell_num=5000, replace=False):\n",
    "    '''\n",
    "    随机选取 5000 个细胞\n",
    "    '''\n",
    "    \n",
    "    random_indices = np.random.choice(adata.n_obs, cell_num, replace=replace)   # 从 276593 个细胞中随机选取 5000 个细胞的索引\n",
    "    adata_subset = adata[random_indices, :]   # 使用选取的索引创建新的 AnnData 对象\n",
    "\n",
    "    return adata_subset\n",
    "\n",
    "# slice_0_subset = random_subset(slice_0)"
   ]
  },
  {
   "cell_type": "code",
   "execution_count": null,
   "metadata": {},
   "outputs": [],
   "source": []
  },
  {
   "cell_type": "markdown",
   "metadata": {},
   "source": [
    "# 加载数据"
   ]
  },
  {
   "cell_type": "code",
   "execution_count": 5,
   "metadata": {},
   "outputs": [
    {
     "name": "stderr",
     "output_type": "stream",
     "text": [
      "100%|██████████| 119/119 [02:31<00:00,  1.27s/it]\n"
     ]
    }
   ],
   "source": [
    "h5ad_dic = '/home/hanyuji/Data/ST_data/macaque_cortex/h5ad/'\n",
    "# files = 'total_gene_T25.type20230503-macaque1-contour2.h5ad'\n",
    "# file_index\n",
    "# data_index = [153, 155]\n",
    "\n",
    "adatas = []\n",
    "for i, index in tqdm(enumerate(file_index)):\n",
    "    data_path = h5ad_dic + f'total_gene_{index}.type20230503-macaque1-contour2.h5ad'\n",
    "    adata = sc.read_h5ad(data_path)\n",
    "    \n",
    "    # 简单的预处理\n",
    "    # adata.obs['slice_index'] = np.repeat(index, adata.n_obs)  # 添加切片序号信息\n",
    "    adata.obsm['spatial_raw'] = adata.obsm['spatial'].copy()  # 复制obsm['spatial']中的数据\n",
    "    adata.obsm['spatial'] = np.delete(adata.obsm['spatial'], [0, 1], axis=1)  # 删除obsm['spatial']中的前两列\n",
    "    \n",
    "    z_value = z_monkey_1.loc[z_monkey_1['Section ID'] == index, 'z'].values[0]\n",
    "    gap_value = z_monkey_1.loc[z_monkey_1['Section ID'] == index, 'gap'].values[0]\n",
    "    \n",
    "    adata.obs['z'] = np.repeat(z_value, adata.n_obs)  # 添加z坐标\n",
    "    adata.obs['gap'] = np.repeat(gap_value, adata.n_obs)  # 添加和上一张切片的gap\n",
    "    adata.obs['slice'] = np.repeat(i, adata.n_obs)  # 添加切片顺序\n",
    "    \n",
    "\n",
    "    adata_subset = random_subset(adata,1000)\n",
    "        \n",
    "    adatas.append(adata_subset)"
   ]
  },
  {
   "cell_type": "code",
   "execution_count": 6,
   "metadata": {},
   "outputs": [
    {
     "data": {
      "text/plain": [
       "AnnData object with n_obs × n_vars = 1428000 × 15929\n",
       "    obs: 'chip', 'gene_area', 'slice_index', 'batch'\n",
       "    obsm: 'spatial', 'spatial_raw'"
      ]
     },
     "execution_count": 6,
     "metadata": {},
     "output_type": "execute_result"
    }
   ],
   "source": [
    "# 合并切片adata\n",
    "\n",
    "combined_adata = ad.concat(\n",
    "    adatas, \n",
    "    axis=0, \n",
    "    join='outer', \n",
    "    merge='unique', \n",
    "    uns_merge='unique', \n",
    "    label='batch', \n",
    "    keys=list(range(len(adatas))), \n",
    "    index_unique='-', \n",
    "    fill_value=0\n",
    ")\n",
    "combined_adata"
   ]
  },
  {
   "cell_type": "markdown",
   "metadata": {},
   "source": [
    "# 计算高可变基因"
   ]
  },
  {
   "cell_type": "code",
   "execution_count": 7,
   "metadata": {},
   "outputs": [],
   "source": [
    "def get_slice_HVG(slice, n_top_genes=2000, need_norm_and_log1p=False, target_sum=1e4):\n",
    "    '''\n",
    "    计算并选择前2000个高可变基因\n",
    "    '''\n",
    "    \n",
    "    slice.var_names_make_unique()  # 确保变量名唯一，避免重复\n",
    "    sc.pp.filter_genes(slice, min_counts=5)  # 过滤掉计数小于5的基因\n",
    "    sc.pp.highly_variable_genes(slice, n_top_genes=n_top_genes, flavor='seurat')  # 使用seurat方法计算高可变基因，并选择前2000个\n",
    "    slice = slice[:, slice.var.highly_variable]  # 只保留高可变基因\n",
    "    \n",
    "    if need_norm_and_log1p:\n",
    "        sc.pp.normalize_total(slice, target_sum=target_sum)  # 将每个细胞的总表达量归一化为10000\n",
    "        sc.pp.log1p(slice)  # 对数据进行对数变换\n",
    "    \n",
    "    return slice  # 返回处理后的数据\n",
    "\n",
    "\n",
    "adatas_HVG = get_slice_HVG(combined_adata)"
   ]
  },
  {
   "cell_type": "code",
   "execution_count": 8,
   "metadata": {},
   "outputs": [],
   "source": [
    "file_path = '/home/hanyuji/Workbench/ST/ST_data_check/paste_alignment_cortex/PASTE_align/cortex_macaque1_119slice_subset_1200spot_2000gene_HVG.h5ad'\n",
    "adatas_HVG.write(file_path)"
   ]
  },
  {
   "cell_type": "markdown",
   "metadata": {},
   "source": [
    "# 5000 subset"
   ]
  },
  {
   "cell_type": "code",
   "execution_count": 4,
   "metadata": {},
   "outputs": [],
   "source": [
    "dataset_HVG_path = '/home/hanyuji/Workbench/ST/ST_data_check/paste_alignment_cortex/PASTE_align/cortex_macaque1_119slice_subset_12000spot_2000gene_HVG.h5ad'\n",
    "\n",
    "adata = sc.read_h5ad(dataset_HVG_path)"
   ]
  },
  {
   "cell_type": "code",
   "execution_count": 5,
   "metadata": {},
   "outputs": [],
   "source": [
    "# 根据batch值分开成多个AnnData对象\n",
    "unique_batches = adata.obs['batch'].unique()\n",
    "\n",
    "adata_list = [random_subset(adata[adata.obs['batch'] == batch].copy(),cell_num=1000) for batch in unique_batches]\n",
    "# adata_list = [adata[adata.obs['batch'] == batch].copy() for batch in unique_batches]\n",
    "\n",
    "# 保存切片subset\n",
    "subset_combined_adata = ad.concat(\n",
    "    adata_list, \n",
    "    axis=0, \n",
    "    join='outer', \n",
    "    merge='unique', \n",
    "    uns_merge='unique', \n",
    "    fill_value=0\n",
    ")\n",
    "\n",
    "dataset_HVG_subset_path = '/home/hanyuji/Workbench/ST/ST_data_check/paste_alignment_cortex/PASTE_align/cortex_macaque1_119slice_subset_1000spot_2000gene_HVG.h5ad'\n",
    "subset_combined_adata.write(dataset_HVG_subset_path)"
   ]
  },
  {
   "cell_type": "code",
   "execution_count": null,
   "metadata": {},
   "outputs": [],
   "source": []
  }
 ],
 "metadata": {
  "kernelspec": {
   "display_name": "PASTE",
   "language": "python",
   "name": "python3"
  },
  "language_info": {
   "codemirror_mode": {
    "name": "ipython",
    "version": 3
   },
   "file_extension": ".py",
   "mimetype": "text/x-python",
   "name": "python",
   "nbconvert_exporter": "python",
   "pygments_lexer": "ipython3",
   "version": "3.9.19"
  }
 },
 "nbformat": 4,
 "nbformat_minor": 2
}
