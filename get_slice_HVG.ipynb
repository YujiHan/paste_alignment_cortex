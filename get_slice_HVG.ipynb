{
 "cells": [
  {
   "cell_type": "code",
   "execution_count": 1,
   "metadata": {},
   "outputs": [],
   "source": [
    "import pandas as pd\n",
    "import numpy as np\n",
    "from anndata import AnnData\n",
    "import anndata as ad\n",
    "import scanpy as sc\n",
    "import scipy.sparse as sp\n",
    "import glob\n",
    "from tqdm import tqdm\n",
    "from paste import pairwise_align\n",
    "import ot\n",
    "import torch\n",
    "import matplotlib.pyplot as plt"
   ]
  },
  {
   "cell_type": "code",
   "execution_count": 2,
   "metadata": {},
   "outputs": [],
   "source": [
    "l = torch.nn.Linear(10,10).to('cuda:1')"
   ]
  },
  {
   "cell_type": "code",
   "execution_count": 3,
   "metadata": {},
   "outputs": [],
   "source": [
    "all_index = [25, 27, 28, 29, 30, 31, 32, 33, 34, 36, 37, 38, 39, 40, 41, 42, 43, 44, 45, 47, 48, 49, 50, 51, 52, 53, 54, 55, 56, 57, 58, 59, 60, 61, 62, 63, 64, 65, 66, 67, 68, 71, 72, 73, 74, 75, 76, 77, 78, 79, 80, 81, 82, 83, 84, 85, 87, 88, 89, 90, 91, 92, 93, 94, 95, 96, 97, 98, 99, 100, 101, 102, 103, 104, 105, 106, 107, 108, 109, 110, 111, 112, 113, 114, 115, 116, 117, 118, 119, 120, 121, 122, 123, 124, 125, 126, 127, 128, 129, 130, 131, 132, 133, 134, 135, 136, 137, 138, 139, 140, 141, 142, 143, 144, 147, 149, 151, 153, 155]"
   ]
  },
  {
   "cell_type": "code",
   "execution_count": 4,
   "metadata": {},
   "outputs": [
    {
     "name": "stderr",
     "output_type": "stream",
     "text": [
      "100%|██████████| 119/119 [09:05<00:00,  4.59s/it]\n"
     ]
    }
   ],
   "source": [
    "h5ad_dic = '/home/hanyuji/Data/ST_data/macaque_cortex/h5ad/'\n",
    "files = 'total_gene_T25.type20230503-macaque1-contour2.h5ad'\n",
    "\n",
    "data_index = all_index\n",
    "\n",
    "adatas = []\n",
    "for index in tqdm(data_index):\n",
    "    data_path = h5ad_dic + f'total_gene_T{index}.type20230503-macaque1-contour2.h5ad'\n",
    "    adata = sc.read_h5ad(data_path)\n",
    "    \n",
    "    # 简单的预处理\n",
    "    adata.obs['slice_index'] = np.repeat(index, adata.n_obs)  # 添加切片序号信息\n",
    "    adata.obsm['spatial_raw'] = adata.obsm['spatial'].copy()  # 复制obsm['spatial']中的数据\n",
    "    adata.obsm['spatial'] = np.delete(adata.obsm['spatial'], [0, 1], axis=1)  # 删除obsm['spatial']中的前两列\n",
    "    \n",
    "    adatas.append(adata)"
   ]
  },
  {
   "cell_type": "code",
   "execution_count": 5,
   "metadata": {},
   "outputs": [],
   "source": [
    "# 合并多个AnnData对象\n",
    "combined_adata = ad.concat(\n",
    "    adatas, \n",
    "    axis=0, \n",
    "    join='outer', \n",
    "    merge='unique', \n",
    "    uns_merge='unique', \n",
    "    label='batch', \n",
    "    keys=list(range(len(adatas))), \n",
    "    index_unique='-', \n",
    "    fill_value=0\n",
    ")\n"
   ]
  },
  {
   "cell_type": "code",
   "execution_count": 6,
   "metadata": {},
   "outputs": [
    {
     "data": {
      "text/plain": [
       "AnnData object with n_obs × n_vars = 30975704 × 15929\n",
       "    obs: 'chip', 'gene_area', 'slice_index', 'batch'\n",
       "    obsm: 'spatial', 'spatial_raw'"
      ]
     },
     "execution_count": 6,
     "metadata": {},
     "output_type": "execute_result"
    }
   ],
   "source": [
    "combined_adata"
   ]
  },
  {
   "cell_type": "code",
   "execution_count": 7,
   "metadata": {},
   "outputs": [],
   "source": [
    "file_path = '/home/hanyuji/Workbench/ST/ST_data_check/paste_alignment_cortex/PASTE_align/cortex_h5ad_2000_HVG/cortex_macaque1_119slice_30975704spot_15929gene_combined.h5ad'\n",
    "combined_adata.write(file_path)"
   ]
  },
  {
   "cell_type": "code",
   "execution_count": 10,
   "metadata": {},
   "outputs": [
    {
     "ename": "",
     "evalue": "",
     "output_type": "error",
     "traceback": [
      "\u001b[1;31m在当前单元格或上一个单元格中执行代码时 Kernel 崩溃。\n",
      "\u001b[1;31m请查看单元格中的代码，以确定故障的可能原因。\n",
      "\u001b[1;31m单击<a href='https://aka.ms/vscodeJupyterKernelCrash'>此处</a>了解详细信息。\n",
      "\u001b[1;31m有关更多详细信息，请查看 Jupyter <a href='command:jupyter.viewOutput'>log</a>。"
     ]
    }
   ],
   "source": [
    "def get_slice_HVG(slice, n_top_genes=2000, need_norm_and_log1p=False, target_sum=1e4):\n",
    "    '''\n",
    "    计算并选择前2000个高可变基因\n",
    "    '''\n",
    "    \n",
    "    slice.var_names_make_unique()  # 确保变量名唯一，避免重复\n",
    "    sc.pp.filter_genes(slice, min_counts=5)  # 过滤掉计数小于5的基因\n",
    "    sc.pp.highly_variable_genes(slice, n_top_genes=n_top_genes, flavor='seurat')  # 使用seurat_v3方法计算高可变基因，并选择前3000个\n",
    "    slice = slice[:, slice.var.highly_variable]  # 只保留高可变基因\n",
    "    \n",
    "    if need_norm_and_log1p:\n",
    "        sc.pp.normalize_total(slice, target_sum=target_sum)  # 将每个细胞的总表达量归一化为10000\n",
    "        sc.pp.log1p(slice)  # 对数据进行对数变换\n",
    "    \n",
    "    return slice  # 返回处理后的数据\n",
    "\n",
    "\n",
    "# slice_0_subset_HVG = get_slice_HVG(slice_0_subset)\n",
    "# slice_1_subset_HVG = get_slice_HVG(slice_1_subset)\n",
    "\n",
    "adatas_HVG = get_slice_HVG(combined_adata)\n",
    "\n"
   ]
  },
  {
   "cell_type": "code",
   "execution_count": null,
   "metadata": {},
   "outputs": [],
   "source": [
    "adatas_HVG.obs"
   ]
  },
  {
   "cell_type": "code",
   "execution_count": 9,
   "metadata": {},
   "outputs": [
    {
     "data": {
      "text/plain": [
       "AnnData object with n_obs × n_vars = 30975704 × 15929\n",
       "    obs: 'chip', 'gene_area', 'slice_index', 'batch'\n",
       "    obsm: 'spatial', 'spatial_raw'"
      ]
     },
     "execution_count": 9,
     "metadata": {},
     "output_type": "execute_result"
    }
   ],
   "source": [
    "adatas_HVG"
   ]
  },
  {
   "cell_type": "code",
   "execution_count": null,
   "metadata": {},
   "outputs": [],
   "source": [
    "file_path = '/home/hanyuji/Workbench/ST/ST_data_check/paste_alignment_cortex/PASTE_align/cortex_h5ad_2000_HVG/cortex_macaque1_119slice_2000gene_HVG.h5ad'\n",
    "adatas_HVG.write(file_path)"
   ]
  }
 ],
 "metadata": {
  "kernelspec": {
   "display_name": "PASTE",
   "language": "python",
   "name": "python3"
  },
  "language_info": {
   "codemirror_mode": {
    "name": "ipython",
    "version": 3
   },
   "file_extension": ".py",
   "mimetype": "text/x-python",
   "name": "python",
   "nbconvert_exporter": "python",
   "pygments_lexer": "ipython3",
   "version": "3.9.19"
  }
 },
 "nbformat": 4,
 "nbformat_minor": 2
}
